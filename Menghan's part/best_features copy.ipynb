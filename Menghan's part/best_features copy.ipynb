{
 "cells": [
  {
   "cell_type": "code",
   "execution_count": 31,
   "metadata": {},
   "outputs": [],
   "source": [
    "import pandas as pd\n",
    "import numpy as np\n",
    "import seaborn as sns\n",
    "import datetime\n",
    "import matplotlib.pyplot as plt"
   ]
  },
  {
   "cell_type": "code",
   "execution_count": 32,
   "metadata": {},
   "outputs": [
    {
     "data": {
      "text/html": [
       "<div>\n",
       "<style scoped>\n",
       "    .dataframe tbody tr th:only-of-type {\n",
       "        vertical-align: middle;\n",
       "    }\n",
       "\n",
       "    .dataframe tbody tr th {\n",
       "        vertical-align: top;\n",
       "    }\n",
       "\n",
       "    .dataframe thead th {\n",
       "        text-align: right;\n",
       "    }\n",
       "</style>\n",
       "<table border=\"1\" class=\"dataframe\">\n",
       "  <thead>\n",
       "    <tr style=\"text-align: right;\">\n",
       "      <th></th>\n",
       "      <th>srch_id</th>\n",
       "      <th>date_time</th>\n",
       "      <th>site_id</th>\n",
       "      <th>visitor_location_country_id</th>\n",
       "      <th>visitor_hist_starrating</th>\n",
       "      <th>visitor_hist_adr_usd</th>\n",
       "      <th>prop_country_id</th>\n",
       "      <th>prop_id</th>\n",
       "      <th>prop_starrating</th>\n",
       "      <th>prop_review_score</th>\n",
       "      <th>...</th>\n",
       "      <th>hist_price_interaction</th>\n",
       "      <th>rating_review_interaction</th>\n",
       "      <th>price_location_ratio</th>\n",
       "      <th>price_per_adult</th>\n",
       "      <th>price_per_person</th>\n",
       "      <th>prop_historical_price</th>\n",
       "      <th>prop_clicked_prob</th>\n",
       "      <th>child_bool</th>\n",
       "      <th>price_review_ratio</th>\n",
       "      <th>price_starrating_ratio</th>\n",
       "    </tr>\n",
       "  </thead>\n",
       "  <tbody>\n",
       "    <tr>\n",
       "      <th>0</th>\n",
       "      <td>1</td>\n",
       "      <td>2013-04-04 08:32:15</td>\n",
       "      <td>12</td>\n",
       "      <td>187</td>\n",
       "      <td>0.0</td>\n",
       "      <td>0.0</td>\n",
       "      <td>219</td>\n",
       "      <td>893</td>\n",
       "      <td>3</td>\n",
       "      <td>3.5</td>\n",
       "      <td>...</td>\n",
       "      <td>0.0</td>\n",
       "      <td>10.5</td>\n",
       "      <td>37.021201</td>\n",
       "      <td>26.1925</td>\n",
       "      <td>26.1925</td>\n",
       "      <td>141.174964</td>\n",
       "      <td>0.0</td>\n",
       "      <td>False</td>\n",
       "      <td>29.934286</td>\n",
       "      <td>34.923333</td>\n",
       "    </tr>\n",
       "    <tr>\n",
       "      <th>1</th>\n",
       "      <td>1</td>\n",
       "      <td>2013-04-04 08:32:15</td>\n",
       "      <td>12</td>\n",
       "      <td>187</td>\n",
       "      <td>0.0</td>\n",
       "      <td>0.0</td>\n",
       "      <td>219</td>\n",
       "      <td>10404</td>\n",
       "      <td>4</td>\n",
       "      <td>4.0</td>\n",
       "      <td>...</td>\n",
       "      <td>0.0</td>\n",
       "      <td>16.0</td>\n",
       "      <td>77.609091</td>\n",
       "      <td>42.6850</td>\n",
       "      <td>42.6850</td>\n",
       "      <td>152.933013</td>\n",
       "      <td>0.0</td>\n",
       "      <td>False</td>\n",
       "      <td>42.685000</td>\n",
       "      <td>42.685000</td>\n",
       "    </tr>\n",
       "    <tr>\n",
       "      <th>2</th>\n",
       "      <td>1</td>\n",
       "      <td>2013-04-04 08:32:15</td>\n",
       "      <td>12</td>\n",
       "      <td>187</td>\n",
       "      <td>0.0</td>\n",
       "      <td>0.0</td>\n",
       "      <td>219</td>\n",
       "      <td>21315</td>\n",
       "      <td>3</td>\n",
       "      <td>4.5</td>\n",
       "      <td>...</td>\n",
       "      <td>0.0</td>\n",
       "      <td>13.5</td>\n",
       "      <td>81.727273</td>\n",
       "      <td>44.9500</td>\n",
       "      <td>44.9500</td>\n",
       "      <td>137.002613</td>\n",
       "      <td>0.0</td>\n",
       "      <td>False</td>\n",
       "      <td>39.955556</td>\n",
       "      <td>59.933333</td>\n",
       "    </tr>\n",
       "    <tr>\n",
       "      <th>3</th>\n",
       "      <td>1</td>\n",
       "      <td>2013-04-04 08:32:15</td>\n",
       "      <td>12</td>\n",
       "      <td>187</td>\n",
       "      <td>0.0</td>\n",
       "      <td>0.0</td>\n",
       "      <td>219</td>\n",
       "      <td>27348</td>\n",
       "      <td>2</td>\n",
       "      <td>4.0</td>\n",
       "      <td>...</td>\n",
       "      <td>0.0</td>\n",
       "      <td>8.0</td>\n",
       "      <td>171.321555</td>\n",
       "      <td>121.2100</td>\n",
       "      <td>121.2100</td>\n",
       "      <td>80.640419</td>\n",
       "      <td>0.0</td>\n",
       "      <td>False</td>\n",
       "      <td>121.210000</td>\n",
       "      <td>242.420000</td>\n",
       "    </tr>\n",
       "    <tr>\n",
       "      <th>4</th>\n",
       "      <td>1</td>\n",
       "      <td>2013-04-04 08:32:15</td>\n",
       "      <td>12</td>\n",
       "      <td>187</td>\n",
       "      <td>0.0</td>\n",
       "      <td>0.0</td>\n",
       "      <td>219</td>\n",
       "      <td>29604</td>\n",
       "      <td>4</td>\n",
       "      <td>3.5</td>\n",
       "      <td>...</td>\n",
       "      <td>0.0</td>\n",
       "      <td>14.0</td>\n",
       "      <td>54.386364</td>\n",
       "      <td>35.8950</td>\n",
       "      <td>35.8950</td>\n",
       "      <td>138.379512</td>\n",
       "      <td>0.0</td>\n",
       "      <td>False</td>\n",
       "      <td>41.022857</td>\n",
       "      <td>35.895000</td>\n",
       "    </tr>\n",
       "  </tbody>\n",
       "</table>\n",
       "<p>5 rows × 73 columns</p>\n",
       "</div>"
      ],
      "text/plain": [
       "   srch_id            date_time  site_id  visitor_location_country_id  \\\n",
       "0        1  2013-04-04 08:32:15       12                          187   \n",
       "1        1  2013-04-04 08:32:15       12                          187   \n",
       "2        1  2013-04-04 08:32:15       12                          187   \n",
       "3        1  2013-04-04 08:32:15       12                          187   \n",
       "4        1  2013-04-04 08:32:15       12                          187   \n",
       "\n",
       "   visitor_hist_starrating  visitor_hist_adr_usd  prop_country_id  prop_id  \\\n",
       "0                      0.0                   0.0              219      893   \n",
       "1                      0.0                   0.0              219    10404   \n",
       "2                      0.0                   0.0              219    21315   \n",
       "3                      0.0                   0.0              219    27348   \n",
       "4                      0.0                   0.0              219    29604   \n",
       "\n",
       "   prop_starrating  prop_review_score  ...  hist_price_interaction  \\\n",
       "0                3                3.5  ...                     0.0   \n",
       "1                4                4.0  ...                     0.0   \n",
       "2                3                4.5  ...                     0.0   \n",
       "3                2                4.0  ...                     0.0   \n",
       "4                4                3.5  ...                     0.0   \n",
       "\n",
       "   rating_review_interaction  price_location_ratio  price_per_adult  \\\n",
       "0                       10.5             37.021201          26.1925   \n",
       "1                       16.0             77.609091          42.6850   \n",
       "2                       13.5             81.727273          44.9500   \n",
       "3                        8.0            171.321555         121.2100   \n",
       "4                       14.0             54.386364          35.8950   \n",
       "\n",
       "   price_per_person  prop_historical_price  prop_clicked_prob  child_bool  \\\n",
       "0           26.1925             141.174964                0.0       False   \n",
       "1           42.6850             152.933013                0.0       False   \n",
       "2           44.9500             137.002613                0.0       False   \n",
       "3          121.2100              80.640419                0.0       False   \n",
       "4           35.8950             138.379512                0.0       False   \n",
       "\n",
       "   price_review_ratio  price_starrating_ratio  \n",
       "0           29.934286               34.923333  \n",
       "1           42.685000               42.685000  \n",
       "2           39.955556               59.933333  \n",
       "3          121.210000              242.420000  \n",
       "4           41.022857               35.895000  \n",
       "\n",
       "[5 rows x 73 columns]"
      ]
     },
     "execution_count": 32,
     "metadata": {},
     "output_type": "execute_result"
    }
   ],
   "source": [
    "base_path = '/Users/eva/Documents/Study/Y1S2/DMT/assignment2/'\n",
    "file_pattern = 'best_feature_engineered_training_chunk_{}.csv'\n",
    "for i in range(10):\n",
    "    df_chunk = pd.read_csv(base_path + file_pattern.format(i))\n",
    "    if i == 0:\n",
    "        df = df_chunk\n",
    "    else:\n",
    "        df = pd.concat([df, df_chunk], axis=0)\n",
    "df.head()\n",
    "\n"
   ]
  },
  {
   "cell_type": "code",
   "execution_count": 33,
   "metadata": {},
   "outputs": [],
   "source": [
    "df_test = pd.read_csv(\"/Users/eva/Documents/Study/Y1S2/DMT/assignment2/best_feature_engineered_test_set_VU_DM.csv\")\n",
    "combined_df = pd.concat([df, df_test], ignore_index=False)\n",
    "\n",
    "original_train_len = len(df)\n",
    "original_test_len = len(df_test)"
   ]
  },
  {
   "cell_type": "code",
   "execution_count": 20,
   "metadata": {},
   "outputs": [],
   "source": [
    "combined_df['price_rank_percentile'] = combined_df.groupby('srch_id')['price_usd'].rank(pct=True)\n",
    "\n",
    "combined_df['location1_rank_percentile'] = combined_df.groupby('srch_id')['prop_location_score1'].rank(pct=True)\n"
   ]
  },
  {
   "cell_type": "code",
   "execution_count": null,
   "metadata": {},
   "outputs": [],
   "source": []
  },
  {
   "cell_type": "code",
   "execution_count": 27,
   "metadata": {},
   "outputs": [],
   "source": [
    "df = combined_df.iloc[:original_train_len]\n",
    "df_test = combined_df.iloc[original_train_len:original_train_len + original_test_len]"
   ]
  },
  {
   "cell_type": "code",
   "execution_count": 18,
   "metadata": {},
   "outputs": [
    {
     "name": "stdout",
     "output_type": "stream",
     "text": [
      "(4959183, 69)\n"
     ]
    }
   ],
   "source": [
    "print(df_test.shape)"
   ]
  },
  {
   "cell_type": "code",
   "execution_count": 22,
   "metadata": {},
   "outputs": [
    {
     "name": "stdout",
     "output_type": "stream",
     "text": [
      "['hist_price_interaction']\n"
     ]
    }
   ],
   "source": [
    "# print columns with NA in df\n",
    "print(df.columns[df.isnull().any()].tolist())"
   ]
  },
  {
   "cell_type": "code",
   "execution_count": 28,
   "metadata": {},
   "outputs": [
    {
     "name": "stdout",
     "output_type": "stream",
     "text": [
      "['position', 'click_bool', 'gross_bookings_usd', 'booking_bool']\n"
     ]
    }
   ],
   "source": [
    "# print columns with NA in df_test\n",
    "print(df_test.columns[df_test.isnull().any()].tolist())\n"
   ]
  },
  {
   "cell_type": "code",
   "execution_count": 29,
   "metadata": {},
   "outputs": [],
   "source": [
    "# drop ['position', 'gross_bookings_usd'] in df_test\n",
    "df_test = df_test.drop(columns=['position', 'gross_bookings_usd', 'click_bool', 'booking_bool'])"
   ]
  },
  {
   "cell_type": "code",
   "execution_count": 30,
   "metadata": {},
   "outputs": [],
   "source": [
    "#to_csv\n",
    "df_test.to_csv('/Users/eva/Documents/Study/Y1S2/DMT/assignment2/2best_feature_engineered_test_set_VU_DM.csv', index=False)"
   ]
  },
  {
   "cell_type": "code",
   "execution_count": 25,
   "metadata": {},
   "outputs": [],
   "source": [
    "\n",
    "chunk_size = 500000  # This number can change \n",
    "\n",
    "# Split the CSV into chunks\n",
    "for i in range(0, len(df), chunk_size):\n",
    "    chunk = df.iloc[i:i + chunk_size]\n",
    "    chunk.to_csv(f'/Users/eva/Documents/Study/Y1S2/DMT/assignment2/2best_feature_engineered_training_chunk_{i//chunk_size}.csv', index=False)"
   ]
  },
  {
   "cell_type": "code",
   "execution_count": null,
   "metadata": {},
   "outputs": [],
   "source": [
    "# print df shape\n",
    "print(df_test.shape)"
   ]
  },
  {
   "cell_type": "code",
   "execution_count": 5,
   "metadata": {},
   "outputs": [
    {
     "name": "stdout",
     "output_type": "stream",
     "text": [
      "(4959183, 51)\n"
     ]
    }
   ],
   "source": [
    "df_cleaned_test = pd.read_csv('/Users/eva/Documents/Study/Y1S2/DMT/assignment2/cleaned_test_set_VU_DM.csv')\n",
    "print(df_cleaned_test.shape)"
   ]
  }
 ],
 "metadata": {
  "kernelspec": {
   "display_name": "Python 3",
   "language": "python",
   "name": "python3"
  },
  "language_info": {
   "codemirror_mode": {
    "name": "ipython",
    "version": 3
   },
   "file_extension": ".py",
   "mimetype": "text/x-python",
   "name": "python",
   "nbconvert_exporter": "python",
   "pygments_lexer": "ipython3",
   "version": "3.10.9"
  }
 },
 "nbformat": 4,
 "nbformat_minor": 2
}
