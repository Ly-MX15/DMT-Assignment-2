{
 "cells": [
  {
   "cell_type": "code",
   "execution_count": 23,
   "metadata": {},
   "outputs": [],
   "source": [
    "import pandas as pd\n",
    "import numpy as np\n",
    "import seaborn as sns\n",
    "import datetime\n",
    "import matplotlib.pyplot as plt"
   ]
  },
  {
   "cell_type": "code",
   "execution_count": 7,
   "metadata": {},
   "outputs": [
    {
     "name": "stdout",
     "output_type": "stream",
     "text": [
      "Index(['srch_id', 'date_time', 'site_id', 'visitor_location_country_id',\n",
      "       'visitor_hist_starrating', 'visitor_hist_adr_usd', 'prop_country_id',\n",
      "       'prop_id', 'prop_starrating', 'prop_review_score', 'prop_brand_bool',\n",
      "       'prop_location_score1', 'prop_location_score2',\n",
      "       'prop_log_historical_price', 'position', 'price_usd', 'promotion_flag',\n",
      "       'srch_destination_id', 'srch_length_of_stay', 'srch_booking_window',\n",
      "       'srch_adults_count', 'srch_children_count', 'srch_room_count',\n",
      "       'srch_saturday_night_bool', 'srch_query_affinity_score',\n",
      "       'orig_destination_distance', 'random_bool', 'comp1_rate', 'comp1_inv',\n",
      "       'comp1_rate_percent_diff', 'comp2_rate', 'comp2_inv',\n",
      "       'comp2_rate_percent_diff', 'comp3_rate', 'comp3_inv', 'click_bool',\n",
      "       'gross_bookings_usd', 'booking_bool', 'bool_visitor_hist',\n",
      "       'visitor_hist_starrating_prop_id_mean',\n",
      "       'visitor_hist_starrating_prop_id_median',\n",
      "       'visitor_hist_adr_usd_prop_id_mean',\n",
      "       'visitor_hist_adr_usd_prop_id_median', 'prop_starrating_prop_id_mean',\n",
      "       'prop_starrating_prop_id_median', 'prop_review_score_prop_id_mean',\n",
      "       'prop_review_score_prop_id_median', 'prop_location_score1_prop_id_mean',\n",
      "       'prop_location_score1_prop_id_median',\n",
      "       'prop_location_score2_prop_id_mean',\n",
      "       'prop_location_score2_prop_id_median',\n",
      "       'prop_log_historical_price_prop_id_mean',\n",
      "       'prop_log_historical_price_prop_id_median', 'price_usd_prop_id_mean',\n",
      "       'price_usd_prop_id_median', 'srch_length_of_stay_prop_id_mean',\n",
      "       'srch_length_of_stay_prop_id_median',\n",
      "       'srch_booking_window_prop_id_mean',\n",
      "       'srch_booking_window_prop_id_median', 'srch_adults_count_prop_id_mean',\n",
      "       'srch_adults_count_prop_id_median', 'srch_children_count_prop_id_mean',\n",
      "       'srch_children_count_prop_id_median', 'srch_room_count_prop_id_mean',\n",
      "       'srch_room_count_prop_id_median',\n",
      "       'srch_query_affinity_score_prop_id_mean',\n",
      "       'srch_query_affinity_score_prop_id_median',\n",
      "       'orig_destination_distance_prop_id_mean',\n",
      "       'orig_destination_distance_prop_id_median',\n",
      "       'comp1_rate_percent_diff_prop_id_mean',\n",
      "       'comp1_rate_percent_diff_prop_id_median',\n",
      "       'comp2_rate_percent_diff_prop_id_mean',\n",
      "       'comp2_rate_percent_diff_prop_id_median', 'people_per_room',\n",
      "       'people_location_interaction', 'hist_price_interaction',\n",
      "       'rating_review_interaction', 'price_location_ratio', 'price_per_adult',\n",
      "       'price_per_person', 'prop_historical_price', 'prop_clicked_prob',\n",
      "       'child_bool'],\n",
      "      dtype='object')\n"
     ]
    }
   ],
   "source": [
    "print(df.columns)"
   ]
  },
  {
   "cell_type": "code",
   "execution_count": 25,
   "metadata": {},
   "outputs": [],
   "source": [
    "df = pd.read_csv(\"/Users/eva/Documents/Study/Y1S2/DMT/assignment2/cleaned_training_set_VU_DM.csv\")\n",
    "df_test = pd.read_csv(\"/Users/eva/Documents/Study/Y1S2/DMT/assignment2/cleaned_test_set_VU_DM.csv\")\n",
    "combined_df = pd.concat([df, df_test], ignore_index=False)"
   ]
  },
  {
   "cell_type": "code",
   "execution_count": 26,
   "metadata": {},
   "outputs": [],
   "source": [
    "features = ['prop_log_historical_price', 'price_usd', 'srch_length_of_stay', 'srch_booking_window', \n",
    "            'srch_adults_count', 'srch_children_count', 'srch_room_count', 'srch_query_affinity_score', 'orig_destination_distance', \n",
    "            'comp1_rate_percent_diff', 'comp2_rate_percent_diff']\n",
    "\n",
    "\n",
    "# 计算每个组合的均值、中位数和标准差\n",
    "grouped = combined_df.groupby(['prop_id'])\n",
    "stats = grouped[features].agg(['mean', 'median'])\n",
    "\n",
    "original_train_len = len(df)\n",
    "original_test_len = len(df_test)\n",
    "\n",
    "for feature in features:\n",
    "    for id_col in ['prop_id']:\n",
    "        for stat in ['mean', 'median']:\n",
    "            column_name = f'{feature}_{id_col}_{stat}'\n",
    "            combined_df[column_name] = grouped[feature].transform(stat)"
   ]
  },
  {
   "cell_type": "code",
   "execution_count": 27,
   "metadata": {},
   "outputs": [],
   "source": [
    "combined_df['people_per_room'] = (combined_df['srch_adults_count'] + combined_df['srch_children_count']) / combined_df['srch_room_count']\n",
    "\n",
    "# Interaction: people per room with location score\n",
    "combined_df['people_location_interaction'] = combined_df['people_per_room'] * combined_df['prop_location_score1']\n",
    "\n",
    "combined_df['hist_price_interaction'] = combined_df['visitor_hist_adr_usd'] / combined_df['price_usd']\n",
    "\n",
    "combined_df['rating_review_interaction'] = combined_df['prop_starrating'] * combined_df['prop_review_score']\n",
    "\n",
    "# process prop_location_score1 is 0\n",
    "non_zero_min_half = combined_df[combined_df['prop_location_score1'] > 0]['prop_location_score1'].min() / 2\n",
    "combined_df['price_location_ratio'] = combined_df['price_usd'] / np.where(combined_df['prop_location_score1'] == 0, non_zero_min_half, combined_df['prop_location_score1'])"
   ]
  },
  {
   "cell_type": "code",
   "execution_count": 28,
   "metadata": {},
   "outputs": [],
   "source": [
    "# add columns to compute price per adult and price per person\n",
    "combined_df['price_per_adult'] = combined_df['price_usd'] / combined_df['srch_adults_count']\n",
    "combined_df['price_per_person'] = combined_df['price_usd'] / (combined_df['srch_adults_count'] + combined_df['srch_children_count'])\n",
    "\n",
    "# add prop_historical_price\n",
    "combined_df['prop_historical_price'] = np.exp(combined_df['prop_log_historical_price'])\n",
    "\n",
    "# add prop_clicked_prob by taking 10 to the power of “srch query affinity score”\n",
    "combined_df['prop_clicked_prob'] = 10 ** combined_df['srch_query_affinity_score']\n",
    "\n",
    "# add child or not bool\n",
    "combined_df['child_bool'] = combined_df['srch_children_count'] > 0\n"
   ]
  },
  {
   "cell_type": "code",
   "execution_count": 30,
   "metadata": {},
   "outputs": [
    {
     "name": "stdout",
     "output_type": "stream",
     "text": [
      "prop_review_score\n",
      "4.0    3115351\n",
      "4.5    3093746\n",
      "3.5    1536219\n",
      "3.0     750811\n",
      "0.0     482116\n",
      "5.0     472194\n",
      "2.5     287427\n",
      "2.0     124191\n",
      "1.5      28706\n",
      "1.0      26769\n",
      "Name: count, dtype: int64\n",
      "prop_starrating\n",
      "3    3897419\n",
      "4    3045848\n",
      "2    1788994\n",
      "5     812961\n",
      "0     337794\n",
      "1      34514\n",
      "Name: count, dtype: int64\n"
     ]
    }
   ],
   "source": [
    "print(combined_df['prop_review_score'].value_counts())\n",
    "\n",
    "non_zero_min = combined_df[combined_df['prop_review_score'] > 0]['prop_review_score'].min()/5\n",
    "combined_df['price_review_ratio'] = combined_df['price_usd'] / np.where(combined_df['prop_review_score'] == 0, non_zero_min, combined_df['prop_review_score'])\n",
    "\n",
    "print(combined_df['prop_starrating'].value_counts())\n",
    "non_zero_min_half = combined_df[combined_df['prop_starrating'] > 0]['prop_starrating'].min() / 5\n",
    "combined_df['price_starrating_ratio'] = combined_df['price_usd'] / np.where(combined_df['prop_starrating'] == 0, non_zero_min_half, combined_df['prop_starrating'])"
   ]
  },
  {
   "cell_type": "code",
   "execution_count": 31,
   "metadata": {},
   "outputs": [],
   "source": [
    "features_to_remove = [\n",
    "    'comp3_rate_percent_diff', 'comp4_rate', 'comp4_inv',\n",
    "    'comp4_rate_percent_diff', 'comp5_rate', 'comp5_inv',\n",
    "    'comp5_rate_percent_diff', 'comp6_rate', 'comp6_inv',\n",
    "    'comp6_rate_percent_diff', 'comp7_rate', 'comp7_inv',\n",
    "    'comp7_rate_percent_diff', 'comp8_rate', 'comp8_inv',\n",
    "    'comp8_rate_percent_diff'\n",
    "]\n",
    "\n",
    "# Assuming df is your DataFrame\n",
    "combined_df = combined_df.drop(columns=features_to_remove)"
   ]
  },
  {
   "cell_type": "code",
   "execution_count": 32,
   "metadata": {},
   "outputs": [],
   "source": [
    "combined_df['price_rank_percentile'] = combined_df.groupby('srch_id')['price_usd'].rank(pct=True)\n",
    "\n",
    "combined_df['location1_rank_percentile'] = combined_df.groupby('srch_id')['prop_location_score1'].rank(pct=True)\n",
    "\n"
   ]
  },
  {
   "cell_type": "code",
   "execution_count": 33,
   "metadata": {},
   "outputs": [],
   "source": [
    "combined_df['price_per_person_rank_percentile'] = combined_df.groupby('srch_id')['price_per_person'].rank(pct=True)"
   ]
  },
  {
   "cell_type": "code",
   "execution_count": 34,
   "metadata": {},
   "outputs": [],
   "source": [
    "df = combined_df.iloc[:original_train_len]\n",
    "df_test = combined_df.iloc[original_train_len:original_train_len + original_test_len]"
   ]
  },
  {
   "cell_type": "code",
   "execution_count": 18,
   "metadata": {},
   "outputs": [
    {
     "name": "stdout",
     "output_type": "stream",
     "text": [
      "(4959183, 69)\n"
     ]
    }
   ],
   "source": [
    "print(df_test.shape)"
   ]
  },
  {
   "cell_type": "code",
   "execution_count": 35,
   "metadata": {},
   "outputs": [
    {
     "name": "stdout",
     "output_type": "stream",
     "text": [
      "['hist_price_interaction']\n"
     ]
    }
   ],
   "source": [
    "# print columns with NA in df\n",
    "print(df.columns[df.isnull().any()].tolist())"
   ]
  },
  {
   "cell_type": "code",
   "execution_count": 36,
   "metadata": {},
   "outputs": [
    {
     "name": "stdout",
     "output_type": "stream",
     "text": [
      "['position', 'click_bool', 'gross_bookings_usd', 'booking_bool', 'hist_price_interaction']\n"
     ]
    }
   ],
   "source": [
    "# print columns with NA in df_test\n",
    "print(df_test.columns[df_test.isnull().any()].tolist())\n"
   ]
  },
  {
   "cell_type": "code",
   "execution_count": 37,
   "metadata": {},
   "outputs": [],
   "source": [
    "# drop ['position', 'gross_bookings_usd'] in df_test\n",
    "df_test = df_test.drop(columns=['position', 'gross_bookings_usd', 'click_bool', 'booking_bool'])"
   ]
  },
  {
   "cell_type": "code",
   "execution_count": 39,
   "metadata": {},
   "outputs": [],
   "source": [
    "#to_csv\n",
    "df_test.to_csv('/Users/eva/Documents/Study/Y1S2/DMT/assignment2/best_feature_engineered_test_set_VU_DM.csv', index=False)"
   ]
  },
  {
   "cell_type": "code",
   "execution_count": 38,
   "metadata": {},
   "outputs": [],
   "source": [
    "\n",
    "chunk_size = 500000  # This number can change \n",
    "\n",
    "# Split the CSV into chunks\n",
    "for i in range(0, len(df), chunk_size):\n",
    "    chunk = df.iloc[i:i + chunk_size]\n",
    "    chunk.to_csv(f'/Users/eva/Documents/Study/Y1S2/DMT/assignment2/best_feature_engineered_training_chunk_{i//chunk_size}.csv', index=False)"
   ]
  },
  {
   "cell_type": "code",
   "execution_count": null,
   "metadata": {},
   "outputs": [],
   "source": [
    "# print df shape\n",
    "print(df_test.shape)"
   ]
  },
  {
   "cell_type": "code",
   "execution_count": 5,
   "metadata": {},
   "outputs": [
    {
     "name": "stdout",
     "output_type": "stream",
     "text": [
      "(4959183, 51)\n"
     ]
    }
   ],
   "source": [
    "df_cleaned_test = pd.read_csv('/Users/eva/Documents/Study/Y1S2/DMT/assignment2/cleaned_test_set_VU_DM.csv')\n",
    "print(df_cleaned_test.shape)"
   ]
  }
 ],
 "metadata": {
  "kernelspec": {
   "display_name": "Python 3",
   "language": "python",
   "name": "python3"
  },
  "language_info": {
   "codemirror_mode": {
    "name": "ipython",
    "version": 3
   },
   "file_extension": ".py",
   "mimetype": "text/x-python",
   "name": "python",
   "nbconvert_exporter": "python",
   "pygments_lexer": "ipython3",
   "version": "3.10.9"
  }
 },
 "nbformat": 4,
 "nbformat_minor": 2
}
