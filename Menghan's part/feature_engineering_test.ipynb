{
 "cells": [
  {
   "cell_type": "code",
   "execution_count": 1,
   "metadata": {},
   "outputs": [],
   "source": [
    "import pandas as pd\n",
    "import numpy as np\n",
    "import seaborn as sns\n",
    "import datetime\n",
    "import matplotlib.pyplot as plt"
   ]
  },
  {
   "cell_type": "markdown",
   "metadata": {},
   "source": [
    "# Feature Engineering"
   ]
  },
  {
   "cell_type": "code",
   "execution_count": 2,
   "metadata": {},
   "outputs": [
    {
     "data": {
      "text/html": [
       "<div>\n",
       "<style scoped>\n",
       "    .dataframe tbody tr th:only-of-type {\n",
       "        vertical-align: middle;\n",
       "    }\n",
       "\n",
       "    .dataframe tbody tr th {\n",
       "        vertical-align: top;\n",
       "    }\n",
       "\n",
       "    .dataframe thead th {\n",
       "        text-align: right;\n",
       "    }\n",
       "</style>\n",
       "<table border=\"1\" class=\"dataframe\">\n",
       "  <thead>\n",
       "    <tr style=\"text-align: right;\">\n",
       "      <th></th>\n",
       "      <th>srch_id</th>\n",
       "      <th>date_time</th>\n",
       "      <th>site_id</th>\n",
       "      <th>visitor_location_country_id</th>\n",
       "      <th>visitor_hist_starrating</th>\n",
       "      <th>visitor_hist_adr_usd</th>\n",
       "      <th>prop_country_id</th>\n",
       "      <th>prop_id</th>\n",
       "      <th>prop_starrating</th>\n",
       "      <th>prop_review_score</th>\n",
       "      <th>...</th>\n",
       "      <th>comp6_rate</th>\n",
       "      <th>comp6_inv</th>\n",
       "      <th>comp6_rate_percent_diff</th>\n",
       "      <th>comp7_rate</th>\n",
       "      <th>comp7_inv</th>\n",
       "      <th>comp7_rate_percent_diff</th>\n",
       "      <th>comp8_rate</th>\n",
       "      <th>comp8_inv</th>\n",
       "      <th>comp8_rate_percent_diff</th>\n",
       "      <th>bool_visitor_hist</th>\n",
       "    </tr>\n",
       "  </thead>\n",
       "  <tbody>\n",
       "    <tr>\n",
       "      <th>0</th>\n",
       "      <td>1</td>\n",
       "      <td>2013-02-02 15:27:40</td>\n",
       "      <td>24</td>\n",
       "      <td>216</td>\n",
       "      <td>0.0</td>\n",
       "      <td>0.0</td>\n",
       "      <td>219</td>\n",
       "      <td>3180</td>\n",
       "      <td>3</td>\n",
       "      <td>4.5</td>\n",
       "      <td>...</td>\n",
       "      <td>0.0</td>\n",
       "      <td>0.0</td>\n",
       "      <td>0.0</td>\n",
       "      <td>0.0</td>\n",
       "      <td>0.0</td>\n",
       "      <td>0.0</td>\n",
       "      <td>0.0</td>\n",
       "      <td>0.0</td>\n",
       "      <td>0.0</td>\n",
       "      <td>0</td>\n",
       "    </tr>\n",
       "    <tr>\n",
       "      <th>1</th>\n",
       "      <td>1</td>\n",
       "      <td>2013-02-02 15:27:40</td>\n",
       "      <td>24</td>\n",
       "      <td>216</td>\n",
       "      <td>0.0</td>\n",
       "      <td>0.0</td>\n",
       "      <td>219</td>\n",
       "      <td>5543</td>\n",
       "      <td>3</td>\n",
       "      <td>4.5</td>\n",
       "      <td>...</td>\n",
       "      <td>0.0</td>\n",
       "      <td>0.0</td>\n",
       "      <td>0.0</td>\n",
       "      <td>0.0</td>\n",
       "      <td>0.0</td>\n",
       "      <td>0.0</td>\n",
       "      <td>0.0</td>\n",
       "      <td>0.0</td>\n",
       "      <td>0.0</td>\n",
       "      <td>0</td>\n",
       "    </tr>\n",
       "    <tr>\n",
       "      <th>2</th>\n",
       "      <td>1</td>\n",
       "      <td>2013-02-02 15:27:40</td>\n",
       "      <td>24</td>\n",
       "      <td>216</td>\n",
       "      <td>0.0</td>\n",
       "      <td>0.0</td>\n",
       "      <td>219</td>\n",
       "      <td>14142</td>\n",
       "      <td>2</td>\n",
       "      <td>3.5</td>\n",
       "      <td>...</td>\n",
       "      <td>0.0</td>\n",
       "      <td>0.0</td>\n",
       "      <td>0.0</td>\n",
       "      <td>0.0</td>\n",
       "      <td>0.0</td>\n",
       "      <td>0.0</td>\n",
       "      <td>0.0</td>\n",
       "      <td>0.0</td>\n",
       "      <td>0.0</td>\n",
       "      <td>0</td>\n",
       "    </tr>\n",
       "    <tr>\n",
       "      <th>3</th>\n",
       "      <td>1</td>\n",
       "      <td>2013-02-02 15:27:40</td>\n",
       "      <td>24</td>\n",
       "      <td>216</td>\n",
       "      <td>0.0</td>\n",
       "      <td>0.0</td>\n",
       "      <td>219</td>\n",
       "      <td>22393</td>\n",
       "      <td>3</td>\n",
       "      <td>4.5</td>\n",
       "      <td>...</td>\n",
       "      <td>0.0</td>\n",
       "      <td>0.0</td>\n",
       "      <td>0.0</td>\n",
       "      <td>0.0</td>\n",
       "      <td>0.0</td>\n",
       "      <td>0.0</td>\n",
       "      <td>0.0</td>\n",
       "      <td>0.0</td>\n",
       "      <td>0.0</td>\n",
       "      <td>0</td>\n",
       "    </tr>\n",
       "    <tr>\n",
       "      <th>4</th>\n",
       "      <td>1</td>\n",
       "      <td>2013-02-02 15:27:40</td>\n",
       "      <td>24</td>\n",
       "      <td>216</td>\n",
       "      <td>0.0</td>\n",
       "      <td>0.0</td>\n",
       "      <td>219</td>\n",
       "      <td>24194</td>\n",
       "      <td>3</td>\n",
       "      <td>4.5</td>\n",
       "      <td>...</td>\n",
       "      <td>0.0</td>\n",
       "      <td>0.0</td>\n",
       "      <td>0.0</td>\n",
       "      <td>0.0</td>\n",
       "      <td>0.0</td>\n",
       "      <td>0.0</td>\n",
       "      <td>0.0</td>\n",
       "      <td>0.0</td>\n",
       "      <td>0.0</td>\n",
       "      <td>0</td>\n",
       "    </tr>\n",
       "  </tbody>\n",
       "</table>\n",
       "<p>5 rows × 51 columns</p>\n",
       "</div>"
      ],
      "text/plain": [
       "   srch_id            date_time  site_id  visitor_location_country_id  \\\n",
       "0        1  2013-02-02 15:27:40       24                          216   \n",
       "1        1  2013-02-02 15:27:40       24                          216   \n",
       "2        1  2013-02-02 15:27:40       24                          216   \n",
       "3        1  2013-02-02 15:27:40       24                          216   \n",
       "4        1  2013-02-02 15:27:40       24                          216   \n",
       "\n",
       "   visitor_hist_starrating  visitor_hist_adr_usd  prop_country_id  prop_id  \\\n",
       "0                      0.0                   0.0              219     3180   \n",
       "1                      0.0                   0.0              219     5543   \n",
       "2                      0.0                   0.0              219    14142   \n",
       "3                      0.0                   0.0              219    22393   \n",
       "4                      0.0                   0.0              219    24194   \n",
       "\n",
       "   prop_starrating  prop_review_score  ...  comp6_rate  comp6_inv  \\\n",
       "0                3                4.5  ...         0.0        0.0   \n",
       "1                3                4.5  ...         0.0        0.0   \n",
       "2                2                3.5  ...         0.0        0.0   \n",
       "3                3                4.5  ...         0.0        0.0   \n",
       "4                3                4.5  ...         0.0        0.0   \n",
       "\n",
       "   comp6_rate_percent_diff  comp7_rate  comp7_inv  comp7_rate_percent_diff  \\\n",
       "0                      0.0         0.0        0.0                      0.0   \n",
       "1                      0.0         0.0        0.0                      0.0   \n",
       "2                      0.0         0.0        0.0                      0.0   \n",
       "3                      0.0         0.0        0.0                      0.0   \n",
       "4                      0.0         0.0        0.0                      0.0   \n",
       "\n",
       "   comp8_rate  comp8_inv  comp8_rate_percent_diff  bool_visitor_hist  \n",
       "0         0.0        0.0                      0.0                  0  \n",
       "1         0.0        0.0                      0.0                  0  \n",
       "2         0.0        0.0                      0.0                  0  \n",
       "3         0.0        0.0                      0.0                  0  \n",
       "4         0.0        0.0                      0.0                  0  \n",
       "\n",
       "[5 rows x 51 columns]"
      ]
     },
     "execution_count": 2,
     "metadata": {},
     "output_type": "execute_result"
    }
   ],
   "source": [
    "df = pd.read_csv(\"/Users/eva/Documents/Study/Y1S2/DMT/assignment2/cleaned_test_set_VU_DM.csv\")\n",
    "df.head()"
   ]
  },
  {
   "cell_type": "markdown",
   "metadata": {},
   "source": [
    "## Find columns with numeric values so that we can caluculate mean, std, median per prop_id\n"
   ]
  },
  {
   "cell_type": "code",
   "execution_count": 3,
   "metadata": {},
   "outputs": [],
   "source": [
    "bool_flag_cols = [col for col in df.columns if 'bool' in col.lower() or 'flag' in col.lower()]\n",
    "\n",
    "# transform the columns to boolean\n",
    "for col in bool_flag_cols:\n",
    "    df[col] = df[col].astype(bool)\n"
   ]
  },
  {
   "cell_type": "code",
   "execution_count": 4,
   "metadata": {},
   "outputs": [
    {
     "name": "stdout",
     "output_type": "stream",
     "text": [
      "object\n"
     ]
    }
   ],
   "source": [
    "print(df['date_time'].dtypes)\n",
    "# transform it into datetime\n",
    "df['date_time'] = pd.to_datetime(df['date_time'])\n"
   ]
  },
  {
   "cell_type": "code",
   "execution_count": 5,
   "metadata": {},
   "outputs": [
    {
     "name": "stdout",
     "output_type": "stream",
     "text": [
      "Index(['comp1_rate', 'comp2_rate', 'comp3_rate', 'comp4_rate', 'comp5_rate',\n",
      "       'comp6_rate', 'comp7_rate', 'comp8_rate'],\n",
      "      dtype='object')\n",
      "['comp1_inv', 'comp2_inv', 'comp3_inv', 'comp4_inv', 'comp5_inv', 'comp6_inv', 'comp7_inv', 'comp8_inv']\n"
     ]
    }
   ],
   "source": [
    "# print columns end with rate and env\n",
    "rate_cols = df.columns[df.columns.str.endswith('rate')]\n",
    "inv_cols = [col for col in df.columns if 'inv' in col.lower()]\n",
    "print(rate_cols)\n",
    "print(inv_cols)"
   ]
  },
  {
   "cell_type": "code",
   "execution_count": 6,
   "metadata": {},
   "outputs": [
    {
     "name": "stdout",
     "output_type": "stream",
     "text": [
      "['visitor_hist_starrating', 'visitor_hist_adr_usd', 'prop_starrating', 'prop_review_score', 'prop_location_score1', 'prop_location_score2', 'prop_log_historical_price', 'price_usd', 'srch_length_of_stay', 'srch_booking_window', 'srch_adults_count', 'srch_children_count', 'srch_room_count', 'srch_query_affinity_score', 'orig_destination_distance', 'comp1_rate_percent_diff', 'comp2_rate_percent_diff', 'comp3_rate_percent_diff', 'comp4_rate_percent_diff', 'comp5_rate_percent_diff', 'comp6_rate_percent_diff', 'comp7_rate_percent_diff', 'comp8_rate_percent_diff']\n",
      "23\n"
     ]
    }
   ],
   "source": [
    "numeric_cols = [col for col in df.select_dtypes(include=['int64', 'float64']).columns if 'id' not in col and col not in rate_cols and col not in inv_cols]\n",
    "print(numeric_cols)\n",
    "print(len(numeric_cols))"
   ]
  },
  {
   "cell_type": "code",
   "execution_count": 7,
   "metadata": {},
   "outputs": [],
   "source": [
    "# calculate mean, std, median for each prop_id\n",
    "grouped = df.groupby('prop_id')[numeric_cols]\n",
    "avg_df = grouped.mean().reset_index().rename(columns=lambda x: x + '_prop_id_mean' if x != 'prop_id' else x)\n",
    "std_df = grouped.std().reset_index().rename(columns=lambda x: x + '_prop_id_std' if x != 'prop_id' else x)\n",
    "median_df = grouped.median().reset_index().rename(columns=lambda x: x + '_prop_id_median' if x != 'prop_id' else x)\n",
    "\n",
    "# merge the dataframes\n",
    "df = df.merge(avg_df, on='prop_id')\n",
    "df = df.merge(std_df, on='prop_id')\n",
    "df = df.merge(median_df, on='prop_id')\n"
   ]
  },
  {
   "cell_type": "code",
   "execution_count": 8,
   "metadata": {},
   "outputs": [],
   "source": [
    "# calculate mean, standard deviation, median for each site_id\n",
    "grouped = df.groupby('srch_id')[numeric_cols]\n",
    "avg_df = grouped.mean().reset_index().rename(columns=lambda x: x + '_srch_id_mean' if x != 'srch_id' else x)\n",
    "std_df = grouped.std().reset_index().rename(columns=lambda x: x + '_srch_id_std' if x != 'srch_id' else x)\n",
    "median_df = grouped.median().reset_index().rename(columns=lambda x: x + '_srch_id_median' if x != 'srch_id' else x)\n",
    "\n",
    "# merge the dataframes\n",
    "df = df.merge(avg_df, on='srch_id')\n",
    "df = df.merge(std_df, on='srch_id')\n",
    "df = df.merge(median_df, on='srch_id')"
   ]
  },
  {
   "cell_type": "code",
   "execution_count": 9,
   "metadata": {},
   "outputs": [],
   "source": [
    "# calculate mean, standard deviation, median for each destination_id\n",
    "grouped = df.groupby('visitor_location_country_id')[numeric_cols]\n",
    "avg_df = grouped.mean().reset_index().rename(columns=lambda x: x + '_visitor_location_country_id_mean' if x != 'visitor_location_country_id' else x)\n",
    "std_df = grouped.std().reset_index().rename(columns=lambda x: x + '_visitor_location_country_id_std' if x != 'visitor_location_country_id' else x)\n",
    "median_df = grouped.median().reset_index().rename(columns=lambda x: x + '_visitor_location_country_id_median' if x != 'visitor_location_country_id' else x)\n",
    "\n",
    "# merge the dataframes\n",
    "df = df.merge(avg_df, on='visitor_location_country_id')\n",
    "df = df.merge(std_df, on='visitor_location_country_id')\n",
    "df = df.merge(median_df, on='visitor_location_country_id')\n"
   ]
  },
  {
   "cell_type": "code",
   "execution_count": 10,
   "metadata": {},
   "outputs": [],
   "source": [
    "#to_csv\n",
    "df.to_csv('/Users/eva/Documents/Study/Y1S2/DMT/assignment2/feature_engineered_test_set_VU_DM.csv', index=False)"
   ]
  },
  {
   "cell_type": "code",
   "execution_count": 3,
   "metadata": {},
   "outputs": [],
   "source": [
    "# truncate into chunks\n",
    "# Load the large CSV file\n",
    "file_path = '/Users/eva/Documents/Study/Y1S2/DMT/assignment2/feature_engineered_training_set_VU_DM.csv'\n",
    "data = pd.read_csv(file_path)\n",
    "\n",
    "# Define the size of each chunk\n",
    "chunk_size = 500000  # This number can change \n",
    "\n",
    "# Split the CSV into chunks\n",
    "for i in range(0, len(data), chunk_size):\n",
    "    chunk = data.iloc[i:i + chunk_size]\n",
    "    chunk.to_csv(f'/Users/eva/Documents/Study/Y1S2/DMT/assignment2/feature_engineered_training_chunk_{i//chunk_size}.csv', index=False)"
   ]
  },
  {
   "cell_type": "code",
   "execution_count": 7,
   "metadata": {},
   "outputs": [],
   "source": [
    "df = pd.read_csv(f'/Users/eva/Documents/Study/Y1S2/DMT/assignment2/feature_engineered_training_chunk_0.csv')"
   ]
  }
 ],
 "metadata": {
  "kernelspec": {
   "display_name": "Python 3",
   "language": "python",
   "name": "python3"
  },
  "language_info": {
   "codemirror_mode": {
    "name": "ipython",
    "version": 3
   },
   "file_extension": ".py",
   "mimetype": "text/x-python",
   "name": "python",
   "nbconvert_exporter": "python",
   "pygments_lexer": "ipython3",
   "version": "3.11.4"
  }
 },
 "nbformat": 4,
 "nbformat_minor": 2
}
