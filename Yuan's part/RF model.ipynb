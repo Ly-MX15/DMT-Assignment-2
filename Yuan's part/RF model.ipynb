{
 "cells": [
  {
   "cell_type": "markdown",
   "metadata": {},
   "source": [
    "# Import"
   ]
  },
  {
   "cell_type": "code",
   "execution_count": 1,
   "metadata": {},
   "outputs": [],
   "source": [
    "import pandas as pd\n",
    "import numpy as np\n",
    "import seaborn as sns\n",
    "import datetime\n",
    "import matplotlib.pyplot as plt\n",
    "import lightgbm as lgb\n",
    "from sklearn.model_selection import train_test_split\n",
    "from sklearn.metrics import ndcg_score\n",
    "from sklearn.ensemble import RandomForestRegressor\n",
    "from tqdm.auto import tqdm\n",
    "import joblib  # 直接导入 joblib\n",
    "\n"
   ]
  },
  {
   "cell_type": "markdown",
   "metadata": {},
   "source": [
    "# Model init"
   ]
  },
  {
   "cell_type": "code",
   "execution_count": 2,
   "metadata": {},
   "outputs": [
    {
     "name": "stdout",
     "output_type": "stream",
     "text": [
      "   srch_id            date_time  site_id  visitor_location_country_id  \\\n",
      "0        1  2013-04-04 08:32:15       12                          187   \n",
      "1        1  2013-04-04 08:32:15       12                          187   \n",
      "2        1  2013-04-04 08:32:15       12                          187   \n",
      "3        1  2013-04-04 08:32:15       12                          187   \n",
      "4        1  2013-04-04 08:32:15       12                          187   \n",
      "\n",
      "   visitor_hist_starrating  visitor_hist_adr_usd  prop_country_id  prop_id  \\\n",
      "0                      0.0                   0.0              219      893   \n",
      "1                      0.0                   0.0              219    10404   \n",
      "2                      0.0                   0.0              219    21315   \n",
      "3                      0.0                   0.0              219    27348   \n",
      "4                      0.0                   0.0              219    29604   \n",
      "\n",
      "   prop_starrating  prop_review_score  ...  \\\n",
      "0                3                3.5  ...   \n",
      "1                4                4.0  ...   \n",
      "2                3                4.5  ...   \n",
      "3                2                4.0  ...   \n",
      "4                4                3.5  ...   \n",
      "\n",
      "   orig_destination_distance_visitor_location_country_id_median  \\\n",
      "0                                           116666.4              \n",
      "1                                           116666.4              \n",
      "2                                           116666.4              \n",
      "3                                           116666.4              \n",
      "4                                           116666.4              \n",
      "\n",
      "   comp1_rate_percent_diff_visitor_location_country_id_median  \\\n",
      "0                                                0.0            \n",
      "1                                                0.0            \n",
      "2                                                0.0            \n",
      "3                                                0.0            \n",
      "4                                                0.0            \n",
      "\n",
      "   comp2_rate_percent_diff_visitor_location_country_id_median  \\\n",
      "0                                                0.0            \n",
      "1                                                0.0            \n",
      "2                                                0.0            \n",
      "3                                                0.0            \n",
      "4                                                0.0            \n",
      "\n",
      "   comp3_rate_percent_diff_visitor_location_country_id_median  \\\n",
      "0                                                0.0            \n",
      "1                                                0.0            \n",
      "2                                                0.0            \n",
      "3                                                0.0            \n",
      "4                                                0.0            \n",
      "\n",
      "   comp4_rate_percent_diff_visitor_location_country_id_median  \\\n",
      "0                                                0.0            \n",
      "1                                                0.0            \n",
      "2                                                0.0            \n",
      "3                                                0.0            \n",
      "4                                                0.0            \n",
      "\n",
      "   comp5_rate_percent_diff_visitor_location_country_id_median  \\\n",
      "0                                                0.0            \n",
      "1                                                0.0            \n",
      "2                                                0.0            \n",
      "3                                                0.0            \n",
      "4                                                0.0            \n",
      "\n",
      "   comp6_rate_percent_diff_visitor_location_country_id_median  \\\n",
      "0                                                0.0            \n",
      "1                                                0.0            \n",
      "2                                                0.0            \n",
      "3                                                0.0            \n",
      "4                                                0.0            \n",
      "\n",
      "   comp7_rate_percent_diff_visitor_location_country_id_median  \\\n",
      "0                                                0.0            \n",
      "1                                                0.0            \n",
      "2                                                0.0            \n",
      "3                                                0.0            \n",
      "4                                                0.0            \n",
      "\n",
      "   comp8_rate_percent_diff_visitor_location_country_id_median  \\\n",
      "0                                                0.0            \n",
      "1                                                0.0            \n",
      "2                                                0.0            \n",
      "3                                                0.0            \n",
      "4                                                0.0            \n",
      "\n",
      "   gross_bookings_usd_visitor_location_country_id_median  \n",
      "0                                                0.0      \n",
      "1                                                0.0      \n",
      "2                                                0.0      \n",
      "3                                                0.0      \n",
      "4                                                0.0      \n",
      "\n",
      "[5 rows x 280 columns]\n"
     ]
    }
   ],
   "source": [
    "file_path = 'C:/Users/98398/Desktop/P5/DM-AS2/Test_data/feature_engineered_training_chunk_0.csv'\n",
    "\n",
    "#file_path = 'C:/Users/98398/Desktop/P5/DM-AS2/Test_data/cleaned_training_set_VU_DM.csv'\n",
    "#file_path = 'C:/Users/98398/Desktop/P5/DM-AS2/Test_data/trai ning_set_VU_DM.csv'\n",
    "df = pd.read_csv(file_path)\n",
    "\n",
    "df_100 = pd.read_csv(file_path, nrows=100)\n",
    "#print(df_100.head())\n",
    "# 增加一个计算得分的列\n",
    "def assign_scores(row):\n",
    "    if row['booking_bool'] == 1:\n",
    "        return 5\n",
    "    elif row['click_bool'] == 1:\n",
    "        return 1\n",
    "    else:\n",
    "        return 0\n",
    "\n",
    "df['score'] = df.apply(assign_scores, axis=1)"
   ]
  },
  {
   "cell_type": "code",
   "execution_count": 3,
   "metadata": {},
   "outputs": [
    {
     "name": "stdout",
     "output_type": "stream",
     "text": [
      "257\n",
      "281\n"
     ]
    }
   ],
   "source": [
    "columns = df.columns\n",
    "\n",
    "# 使用列表推导式筛选出不需要删除的列\n",
    "features = [\n",
    "    col for col in columns if col not in ['date_time', 'position', 'click_bool', 'booking_bool', 'score']\n",
    "    and 'gross_bookings_usd' not in col and 'position' not in col\n",
    "]\n",
    "\n",
    "\n",
    "print(len(features))\n",
    "print(len(df.columns))"
   ]
  },
  {
   "cell_type": "code",
   "execution_count": null,
   "metadata": {},
   "outputs": [],
   "source": [
    "train_df, test_df = train_test_split(df, test_size=0.2, random_state=42, stratify=df['srch_id'])\n",
    "\n",
    "# 填充训练数据中的 NaN 值为 0\n",
    "train_df[features] = train_df[features].fillna(0)\n",
    "train_df['score'] = train_df['score'].fillna(0)\n",
    "\n",
    "# 用同样的方法处理测试数据集的 NaN 值\n",
    "test_df[features] = test_df[features].fillna(0)\n",
    "print(1)"
   ]
  },
  {
   "cell_type": "code",
   "execution_count": 10,
   "metadata": {},
   "outputs": [
    {
     "name": "stdout",
     "output_type": "stream",
     "text": [
      "1\n"
     ]
    },
    {
     "data": {
      "application/vnd.jupyter.widget-view+json": {
       "model_id": "e278b391481c46128c70fd5cefd7d6db",
       "version_major": 2,
       "version_minor": 0
      },
      "text/plain": [
       "  0%|          | 0/100 [00:00<?, ?it/s]"
      ]
     },
     "metadata": {},
     "output_type": "display_data"
    },
    {
     "name": "stdout",
     "output_type": "stream",
     "text": [
      "2\n",
      "3\n",
      "Average NDCG Score: 0.6825715630838168\n"
     ]
    }
   ],
   "source": [
    "# 创建一个包装器来报告进度的函数\n",
    "def progress_display(n_total):\n",
    "    pbar = tqdm(total=n_total)\n",
    "    def update(*args):\n",
    "        pbar.update()\n",
    "    return update, pbar\n",
    "\n",
    "# 设置回调函数来监控树的构建进度\n",
    "n_trees = 100\n",
    "update_callback, pbar = progress_display(n_trees)\n",
    "with joblib.parallel_backend('threading', n_jobs=-1):\n",
    "    rf = RandomForestRegressor(n_estimators=n_trees, max_depth=10, random_state=42, verbose=0, n_jobs=-1)\n",
    "    with joblib.parallel_backend('threading', n_jobs=-1):\n",
    "        rf.fit(train_df[features], train_df['score'])\n",
    "pbar.close()\n",
    "\n",
    "\n",
    "test_pred = rf.predict(test_df[features])\n",
    "test_df['predictions'] = test_pred\n",
    "print(2)\n",
    "\n",
    "# 首先确保数据按照 srch_id 和 predictions 降序排序\n",
    "test_df.sort_values(['srch_id', 'predictions'], ascending=[True, False], inplace=True)\n",
    "\n",
    "# 分组并计算每个搜索会话的 NDCG\n",
    "grouped = test_df.groupby('srch_id')\n",
    "ndcg_scores = []\n",
    "print(3)\n",
    "for name, group in grouped:\n",
    "    group = group.sort_values('predictions', ascending=False)\n",
    "    true_relevance = group['score'].values\n",
    "    scores_pred = group['predictions'].values\n",
    "    # 只计算有正样本的会话\n",
    "    if len(np.unique(true_relevance)) > 1:\n",
    "        ndcg_scores.append(ndcg_score([true_relevance], [scores_pred], k=5))\n",
    "\n",
    "average_ndcg = np.mean(ndcg_scores)\n",
    "print(f\"Average NDCG Score: {average_ndcg}\")\n"
   ]
  }
 ],
 "metadata": {
  "kernelspec": {
   "display_name": "base",
   "language": "python",
   "name": "python3"
  },
  "language_info": {
   "codemirror_mode": {
    "name": "ipython",
    "version": 3
   },
   "file_extension": ".py",
   "mimetype": "text/x-python",
   "name": "python",
   "nbconvert_exporter": "python",
   "pygments_lexer": "ipython3",
   "version": "3.9.13"
  }
 },
 "nbformat": 4,
 "nbformat_minor": 2
}
