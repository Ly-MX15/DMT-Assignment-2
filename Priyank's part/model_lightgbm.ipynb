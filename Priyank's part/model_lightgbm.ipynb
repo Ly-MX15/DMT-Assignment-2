{
 "cells": [
  {
   "cell_type": "markdown",
   "metadata": {},
   "source": [
    "# Import"
   ]
  },
  {
   "cell_type": "code",
   "execution_count": 27,
   "metadata": {},
   "outputs": [],
   "source": [
    "import pandas as pd\n",
    "import numpy as np\n",
    "import seaborn as sns\n",
    "import datetime\n",
    "import matplotlib.pyplot as plt\n",
    "import lightgbm as lgb\n",
    "from sklearn.model_selection import train_test_split\n",
    "from sklearn.metrics import ndcg_score\n"
   ]
  },
  {
   "cell_type": "markdown",
   "metadata": {},
   "source": [
    "## From here it's workable"
   ]
  },
  {
   "cell_type": "code",
   "execution_count": 28,
   "metadata": {},
   "outputs": [],
   "source": [
    "def assign_scores(row):\n",
    "    if row['booking_bool'] == 1:\n",
    "        return 5\n",
    "    elif row['click_bool'] == 1:\n",
    "        return 1\n",
    "    else:\n",
    "        return 0"
   ]
  },
  {
   "cell_type": "code",
   "execution_count": 29,
   "metadata": {},
   "outputs": [
    {
     "data": {
      "text/html": [
       "<div>\n",
       "<style scoped>\n",
       "    .dataframe tbody tr th:only-of-type {\n",
       "        vertical-align: middle;\n",
       "    }\n",
       "\n",
       "    .dataframe tbody tr th {\n",
       "        vertical-align: top;\n",
       "    }\n",
       "\n",
       "    .dataframe thead th {\n",
       "        text-align: right;\n",
       "    }\n",
       "</style>\n",
       "<table border=\"1\" class=\"dataframe\">\n",
       "  <thead>\n",
       "    <tr style=\"text-align: right;\">\n",
       "      <th></th>\n",
       "      <th>srch_id</th>\n",
       "      <th>date_time</th>\n",
       "      <th>site_id</th>\n",
       "      <th>visitor_location_country_id</th>\n",
       "      <th>visitor_hist_starrating</th>\n",
       "      <th>visitor_hist_adr_usd</th>\n",
       "      <th>prop_country_id</th>\n",
       "      <th>prop_id</th>\n",
       "      <th>prop_starrating</th>\n",
       "      <th>prop_review_score</th>\n",
       "      <th>...</th>\n",
       "      <th>comp1_rate_percent_diff_prop_id_mean</th>\n",
       "      <th>comp1_rate_percent_diff_prop_id_median</th>\n",
       "      <th>comp2_rate_percent_diff_prop_id_mean</th>\n",
       "      <th>comp2_rate_percent_diff_prop_id_median</th>\n",
       "      <th>people_per_room</th>\n",
       "      <th>people_location_interaction</th>\n",
       "      <th>hist_price_interaction</th>\n",
       "      <th>rating_review_interaction</th>\n",
       "      <th>price_location_ratio</th>\n",
       "      <th>score</th>\n",
       "    </tr>\n",
       "  </thead>\n",
       "  <tbody>\n",
       "    <tr>\n",
       "      <th>0</th>\n",
       "      <td>1</td>\n",
       "      <td>2013-04-04 08:32:15</td>\n",
       "      <td>12</td>\n",
       "      <td>187</td>\n",
       "      <td>0.0</td>\n",
       "      <td>0.0</td>\n",
       "      <td>219</td>\n",
       "      <td>893</td>\n",
       "      <td>3</td>\n",
       "      <td>3.5</td>\n",
       "      <td>...</td>\n",
       "      <td>0.0</td>\n",
       "      <td>0.0</td>\n",
       "      <td>0.438965</td>\n",
       "      <td>0.0</td>\n",
       "      <td>4.0</td>\n",
       "      <td>11.32</td>\n",
       "      <td>0.0</td>\n",
       "      <td>10.5</td>\n",
       "      <td>37.021201</td>\n",
       "      <td>0</td>\n",
       "    </tr>\n",
       "    <tr>\n",
       "      <th>1</th>\n",
       "      <td>1</td>\n",
       "      <td>2013-04-04 08:32:15</td>\n",
       "      <td>12</td>\n",
       "      <td>187</td>\n",
       "      <td>0.0</td>\n",
       "      <td>0.0</td>\n",
       "      <td>219</td>\n",
       "      <td>10404</td>\n",
       "      <td>4</td>\n",
       "      <td>4.0</td>\n",
       "      <td>...</td>\n",
       "      <td>0.0</td>\n",
       "      <td>0.0</td>\n",
       "      <td>0.000000</td>\n",
       "      <td>0.0</td>\n",
       "      <td>4.0</td>\n",
       "      <td>8.80</td>\n",
       "      <td>0.0</td>\n",
       "      <td>16.0</td>\n",
       "      <td>77.609091</td>\n",
       "      <td>0</td>\n",
       "    </tr>\n",
       "    <tr>\n",
       "      <th>2</th>\n",
       "      <td>1</td>\n",
       "      <td>2013-04-04 08:32:15</td>\n",
       "      <td>12</td>\n",
       "      <td>187</td>\n",
       "      <td>0.0</td>\n",
       "      <td>0.0</td>\n",
       "      <td>219</td>\n",
       "      <td>21315</td>\n",
       "      <td>3</td>\n",
       "      <td>4.5</td>\n",
       "      <td>...</td>\n",
       "      <td>0.0</td>\n",
       "      <td>0.0</td>\n",
       "      <td>1.130790</td>\n",
       "      <td>0.0</td>\n",
       "      <td>4.0</td>\n",
       "      <td>8.80</td>\n",
       "      <td>0.0</td>\n",
       "      <td>13.5</td>\n",
       "      <td>81.727273</td>\n",
       "      <td>0</td>\n",
       "    </tr>\n",
       "    <tr>\n",
       "      <th>3</th>\n",
       "      <td>1</td>\n",
       "      <td>2013-04-04 08:32:15</td>\n",
       "      <td>12</td>\n",
       "      <td>187</td>\n",
       "      <td>0.0</td>\n",
       "      <td>0.0</td>\n",
       "      <td>219</td>\n",
       "      <td>27348</td>\n",
       "      <td>2</td>\n",
       "      <td>4.0</td>\n",
       "      <td>...</td>\n",
       "      <td>0.0</td>\n",
       "      <td>0.0</td>\n",
       "      <td>7.386609</td>\n",
       "      <td>5.0</td>\n",
       "      <td>4.0</td>\n",
       "      <td>11.32</td>\n",
       "      <td>0.0</td>\n",
       "      <td>8.0</td>\n",
       "      <td>171.321555</td>\n",
       "      <td>0</td>\n",
       "    </tr>\n",
       "    <tr>\n",
       "      <th>4</th>\n",
       "      <td>1</td>\n",
       "      <td>2013-04-04 08:32:15</td>\n",
       "      <td>12</td>\n",
       "      <td>187</td>\n",
       "      <td>0.0</td>\n",
       "      <td>0.0</td>\n",
       "      <td>219</td>\n",
       "      <td>29604</td>\n",
       "      <td>4</td>\n",
       "      <td>3.5</td>\n",
       "      <td>...</td>\n",
       "      <td>0.0</td>\n",
       "      <td>0.0</td>\n",
       "      <td>0.517216</td>\n",
       "      <td>0.0</td>\n",
       "      <td>4.0</td>\n",
       "      <td>10.56</td>\n",
       "      <td>0.0</td>\n",
       "      <td>14.0</td>\n",
       "      <td>54.386364</td>\n",
       "      <td>0</td>\n",
       "    </tr>\n",
       "  </tbody>\n",
       "</table>\n",
       "<p>5 rows × 81 columns</p>\n",
       "</div>"
      ],
      "text/plain": [
       "   srch_id            date_time  site_id  visitor_location_country_id  \\\n",
       "0        1  2013-04-04 08:32:15       12                          187   \n",
       "1        1  2013-04-04 08:32:15       12                          187   \n",
       "2        1  2013-04-04 08:32:15       12                          187   \n",
       "3        1  2013-04-04 08:32:15       12                          187   \n",
       "4        1  2013-04-04 08:32:15       12                          187   \n",
       "\n",
       "   visitor_hist_starrating  visitor_hist_adr_usd  prop_country_id  prop_id  \\\n",
       "0                      0.0                   0.0              219      893   \n",
       "1                      0.0                   0.0              219    10404   \n",
       "2                      0.0                   0.0              219    21315   \n",
       "3                      0.0                   0.0              219    27348   \n",
       "4                      0.0                   0.0              219    29604   \n",
       "\n",
       "   prop_starrating  prop_review_score  ...  \\\n",
       "0                3                3.5  ...   \n",
       "1                4                4.0  ...   \n",
       "2                3                4.5  ...   \n",
       "3                2                4.0  ...   \n",
       "4                4                3.5  ...   \n",
       "\n",
       "   comp1_rate_percent_diff_prop_id_mean  \\\n",
       "0                                   0.0   \n",
       "1                                   0.0   \n",
       "2                                   0.0   \n",
       "3                                   0.0   \n",
       "4                                   0.0   \n",
       "\n",
       "   comp1_rate_percent_diff_prop_id_median  \\\n",
       "0                                     0.0   \n",
       "1                                     0.0   \n",
       "2                                     0.0   \n",
       "3                                     0.0   \n",
       "4                                     0.0   \n",
       "\n",
       "   comp2_rate_percent_diff_prop_id_mean  \\\n",
       "0                              0.438965   \n",
       "1                              0.000000   \n",
       "2                              1.130790   \n",
       "3                              7.386609   \n",
       "4                              0.517216   \n",
       "\n",
       "   comp2_rate_percent_diff_prop_id_median  people_per_room  \\\n",
       "0                                     0.0              4.0   \n",
       "1                                     0.0              4.0   \n",
       "2                                     0.0              4.0   \n",
       "3                                     5.0              4.0   \n",
       "4                                     0.0              4.0   \n",
       "\n",
       "   people_location_interaction  hist_price_interaction  \\\n",
       "0                        11.32                     0.0   \n",
       "1                         8.80                     0.0   \n",
       "2                         8.80                     0.0   \n",
       "3                        11.32                     0.0   \n",
       "4                        10.56                     0.0   \n",
       "\n",
       "   rating_review_interaction  price_location_ratio  score  \n",
       "0                       10.5             37.021201      0  \n",
       "1                       16.0             77.609091      0  \n",
       "2                       13.5             81.727273      0  \n",
       "3                        8.0            171.321555      0  \n",
       "4                       14.0             54.386364      0  \n",
       "\n",
       "[5 rows x 81 columns]"
      ]
     },
     "execution_count": 29,
     "metadata": {},
     "output_type": "execute_result"
    }
   ],
   "source": [
    "# 逐个读取feature_engineered_training_chunk{i}并上下拼接到一个df\n",
    "base_path = '/Users/Priyank/Desktop/dmt2/feature_engineered_train/'\n",
    "file_pattern = 'feature_engineered_training_chunk_{}.csv'\n",
    "for i in range(10):\n",
    "    df_chunk = pd.read_csv(base_path + file_pattern.format(i))\n",
    "    df_chunk['score'] = df_chunk.apply(assign_scores, axis=1)\n",
    "    if i == 0:\n",
    "        df = df_chunk\n",
    "    else:\n",
    "        df = pd.concat([df, df_chunk], axis=0)\n",
    "df.head()\n"
   ]
  },
  {
   "cell_type": "code",
   "execution_count": 30,
   "metadata": {},
   "outputs": [
    {
     "name": "stdout",
     "output_type": "stream",
     "text": [
      "Columns with NA values and their counts:\n",
      "hist_price_interaction: 31\n",
      "price_location_ratio: 2\n"
     ]
    }
   ],
   "source": [
    "# 检查df NA 展示有NA的列\n",
    "na_counts = df.isna().sum()\n",
    "\n",
    "# 打印有NA值的列和NA值的数量\n",
    "print(\"Columns with NA values and their counts:\")\n",
    "for col, count in na_counts.items():\n",
    "    if count > 0:\n",
    "        print(f\"{col}: {count}\")\n",
    "# 删除有NA值的列\n",
    "df = df.dropna(axis=1)\n"
   ]
  },
  {
   "cell_type": "code",
   "execution_count": 31,
   "metadata": {},
   "outputs": [
    {
     "name": "stdout",
     "output_type": "stream",
     "text": [
      "71\n",
      "79\n"
     ]
    }
   ],
   "source": [
    "columns = df.columns\n",
    "\n",
    "# 使用列表推导式筛选出不需要删除的列\n",
    "features = [\n",
    "    col for col in columns if col not in ['date_time', 'position', 'click_bool', 'booking_bool', 'score']\n",
    "    and 'gross_bookings_usd' not in col and 'position' not in col\n",
    "]\n",
    "\n",
    "\n",
    "print(len(features))\n",
    "print(len(df.columns))"
   ]
  },
  {
   "cell_type": "code",
   "execution_count": 32,
   "metadata": {},
   "outputs": [
    {
     "name": "stdout",
     "output_type": "stream",
     "text": [
      "['srch_id', 'site_id', 'visitor_location_country_id', 'visitor_hist_starrating', 'visitor_hist_adr_usd', 'prop_country_id', 'prop_id', 'prop_starrating', 'prop_review_score', 'prop_brand_bool', 'prop_location_score1', 'prop_location_score2', 'prop_log_historical_price', 'price_usd', 'promotion_flag', 'srch_destination_id', 'srch_length_of_stay', 'srch_booking_window', 'srch_adults_count', 'srch_children_count', 'srch_room_count', 'srch_saturday_night_bool', 'srch_query_affinity_score', 'orig_destination_distance', 'random_bool', 'comp1_rate', 'comp1_inv', 'comp1_rate_percent_diff', 'comp2_rate', 'comp2_inv', 'comp2_rate_percent_diff', 'comp3_rate', 'comp3_inv', 'bool_visitor_hist', 'visitor_hist_starrating_prop_id_mean', 'visitor_hist_starrating_prop_id_median', 'visitor_hist_adr_usd_prop_id_mean', 'visitor_hist_adr_usd_prop_id_median', 'prop_starrating_prop_id_mean', 'prop_starrating_prop_id_median', 'prop_review_score_prop_id_mean', 'prop_review_score_prop_id_median', 'prop_location_score1_prop_id_mean', 'prop_location_score1_prop_id_median', 'prop_location_score2_prop_id_mean', 'prop_location_score2_prop_id_median', 'prop_log_historical_price_prop_id_mean', 'prop_log_historical_price_prop_id_median', 'price_usd_prop_id_mean', 'price_usd_prop_id_median', 'srch_length_of_stay_prop_id_mean', 'srch_length_of_stay_prop_id_median', 'srch_booking_window_prop_id_mean', 'srch_booking_window_prop_id_median', 'srch_adults_count_prop_id_mean', 'srch_adults_count_prop_id_median', 'srch_children_count_prop_id_mean', 'srch_children_count_prop_id_median', 'srch_room_count_prop_id_mean', 'srch_room_count_prop_id_median', 'srch_query_affinity_score_prop_id_mean', 'srch_query_affinity_score_prop_id_median', 'orig_destination_distance_prop_id_mean', 'orig_destination_distance_prop_id_median', 'comp1_rate_percent_diff_prop_id_mean', 'comp1_rate_percent_diff_prop_id_median', 'comp2_rate_percent_diff_prop_id_mean', 'comp2_rate_percent_diff_prop_id_median', 'people_per_room', 'people_location_interaction', 'rating_review_interaction']\n"
     ]
    }
   ],
   "source": [
    "print(features)"
   ]
  },
  {
   "cell_type": "markdown",
   "metadata": {},
   "source": [
    "### Default Params"
   ]
  },
  {
   "cell_type": "code",
   "execution_count": 7,
   "metadata": {},
   "outputs": [],
   "source": [
    "default_params = {\n",
    "    'objective': 'lambdarank',\n",
    "    'metric': 'ndcg',\n",
    "    'max_depth': 3,\n",
    "    'num_leaves': 28,\n",
    "    'learning_rate': 0.1,\n",
    "    'feature_fraction': 0.8,\n",
    "    'min_child_samples': 40,\n",
    "    'min_child_weight': 0.001,\n",
    "    'bagging_fraction': 1,\n",
    "    'bagging_freq': 2,\n",
    "    'reg_alpha': 0.001,\n",
    "    'reg_lambda': 8,\n",
    "    'cat_smooth': 0,\n",
    "    'num_iterations': 800,\n",
    "    'is_unbalance': True  # 仅当你确信数据不平衡严重且影响模型性能时才设置\n",
    "}"
   ]
  },
  {
   "cell_type": "code",
   "execution_count": 34,
   "metadata": {},
   "outputs": [],
   "source": [
    "pd.options.mode.chained_assignment = None  # default='warn'"
   ]
  },
  {
   "cell_type": "code",
   "execution_count": 35,
   "metadata": {},
   "outputs": [
    {
     "name": "stderr",
     "output_type": "stream",
     "text": [
      "/Users/Priyank/opt/anaconda3/lib/python3.8/site-packages/lightgbm/engine.py:172: UserWarning: Found `num_iterations` in params. Will use it instead of argument\n",
      "  _log_warning(f\"Found `{alias}` in params. Will use it instead of argument\")\n"
     ]
    },
    {
     "name": "stdout",
     "output_type": "stream",
     "text": [
      "Training until validation scores don't improve for 15 rounds\n",
      "Did not meet early stopping. Best iteration is:\n",
      "[148]\tvalid_0's ndcg@3: 0.331435\tvalid_0's ndcg@5: 0.387004\n",
      "Average NDCG Score: 0.3869575804376442\n"
     ]
    },
    {
     "name": "stderr",
     "output_type": "stream",
     "text": [
      "/Users/Priyank/opt/anaconda3/lib/python3.8/site-packages/lightgbm/engine.py:172: UserWarning: Found `num_iterations` in params. Will use it instead of argument\n",
      "  _log_warning(f\"Found `{alias}` in params. Will use it instead of argument\")\n"
     ]
    },
    {
     "name": "stdout",
     "output_type": "stream",
     "text": [
      "Training until validation scores don't improve for 15 rounds\n",
      "Did not meet early stopping. Best iteration is:\n",
      "[149]\tvalid_0's ndcg@3: 0.340122\tvalid_0's ndcg@5: 0.396885\n",
      "Average NDCG Score: 0.39827022948450325\n"
     ]
    },
    {
     "name": "stderr",
     "output_type": "stream",
     "text": [
      "/Users/Priyank/opt/anaconda3/lib/python3.8/site-packages/lightgbm/engine.py:172: UserWarning: Found `num_iterations` in params. Will use it instead of argument\n",
      "  _log_warning(f\"Found `{alias}` in params. Will use it instead of argument\")\n"
     ]
    },
    {
     "name": "stdout",
     "output_type": "stream",
     "text": [
      "Training until validation scores don't improve for 15 rounds\n",
      "Did not meet early stopping. Best iteration is:\n",
      "[150]\tvalid_0's ndcg@3: 0.329112\tvalid_0's ndcg@5: 0.385694\n",
      "Average NDCG Score: 0.38603443609327437\n"
     ]
    },
    {
     "name": "stderr",
     "output_type": "stream",
     "text": [
      "/Users/Priyank/opt/anaconda3/lib/python3.8/site-packages/lightgbm/engine.py:172: UserWarning: Found `num_iterations` in params. Will use it instead of argument\n",
      "  _log_warning(f\"Found `{alias}` in params. Will use it instead of argument\")\n"
     ]
    },
    {
     "name": "stdout",
     "output_type": "stream",
     "text": [
      "Training until validation scores don't improve for 15 rounds\n",
      "Early stopping, best iteration is:\n",
      "[50]\tvalid_0's ndcg@3: 0.323105\tvalid_0's ndcg@5: 0.379813\n",
      "Average NDCG Score: 0.377601902712018\n"
     ]
    },
    {
     "name": "stderr",
     "output_type": "stream",
     "text": [
      "/Users/Priyank/opt/anaconda3/lib/python3.8/site-packages/lightgbm/engine.py:172: UserWarning: Found `num_iterations` in params. Will use it instead of argument\n",
      "  _log_warning(f\"Found `{alias}` in params. Will use it instead of argument\")\n"
     ]
    },
    {
     "name": "stdout",
     "output_type": "stream",
     "text": [
      "Training until validation scores don't improve for 15 rounds\n",
      "Did not meet early stopping. Best iteration is:\n",
      "[150]\tvalid_0's ndcg@3: 0.334703\tvalid_0's ndcg@5: 0.390732\n",
      "Average NDCG Score: 0.3908056970988819\n"
     ]
    },
    {
     "name": "stderr",
     "output_type": "stream",
     "text": [
      "/Users/Priyank/opt/anaconda3/lib/python3.8/site-packages/lightgbm/engine.py:172: UserWarning: Found `num_iterations` in params. Will use it instead of argument\n",
      "  _log_warning(f\"Found `{alias}` in params. Will use it instead of argument\")\n"
     ]
    },
    {
     "name": "stdout",
     "output_type": "stream",
     "text": [
      "Training until validation scores don't improve for 15 rounds\n",
      "Did not meet early stopping. Best iteration is:\n",
      "[148]\tvalid_0's ndcg@3: 0.331226\tvalid_0's ndcg@5: 0.38716\n",
      "Average NDCG Score: 0.38569689231164533\n"
     ]
    },
    {
     "name": "stderr",
     "output_type": "stream",
     "text": [
      "/Users/Priyank/opt/anaconda3/lib/python3.8/site-packages/lightgbm/engine.py:172: UserWarning: Found `num_iterations` in params. Will use it instead of argument\n",
      "  _log_warning(f\"Found `{alias}` in params. Will use it instead of argument\")\n"
     ]
    },
    {
     "name": "stdout",
     "output_type": "stream",
     "text": [
      "Training until validation scores don't improve for 15 rounds\n",
      "Did not meet early stopping. Best iteration is:\n",
      "[150]\tvalid_0's ndcg@3: 0.332221\tvalid_0's ndcg@5: 0.388415\n",
      "Average NDCG Score: 0.3883296042651558\n"
     ]
    },
    {
     "name": "stderr",
     "output_type": "stream",
     "text": [
      "/Users/Priyank/opt/anaconda3/lib/python3.8/site-packages/lightgbm/engine.py:172: UserWarning: Found `num_iterations` in params. Will use it instead of argument\n",
      "  _log_warning(f\"Found `{alias}` in params. Will use it instead of argument\")\n"
     ]
    },
    {
     "name": "stdout",
     "output_type": "stream",
     "text": [
      "Training until validation scores don't improve for 15 rounds\n",
      "Early stopping, best iteration is:\n",
      "[135]\tvalid_0's ndcg@3: 0.340146\tvalid_0's ndcg@5: 0.396197\n",
      "Average NDCG Score: 0.39736742505290634\n"
     ]
    },
    {
     "name": "stderr",
     "output_type": "stream",
     "text": [
      "/Users/Priyank/opt/anaconda3/lib/python3.8/site-packages/lightgbm/engine.py:172: UserWarning: Found `num_iterations` in params. Will use it instead of argument\n",
      "  _log_warning(f\"Found `{alias}` in params. Will use it instead of argument\")\n"
     ]
    },
    {
     "name": "stdout",
     "output_type": "stream",
     "text": [
      "Training until validation scores don't improve for 15 rounds\n",
      "Early stopping, best iteration is:\n",
      "[70]\tvalid_0's ndcg@3: 0.336612\tvalid_0's ndcg@5: 0.393264\n",
      "Average NDCG Score: 0.39193047345374\n"
     ]
    },
    {
     "name": "stderr",
     "output_type": "stream",
     "text": [
      "/Users/Priyank/opt/anaconda3/lib/python3.8/site-packages/lightgbm/engine.py:172: UserWarning: Found `num_iterations` in params. Will use it instead of argument\n",
      "  _log_warning(f\"Found `{alias}` in params. Will use it instead of argument\")\n"
     ]
    },
    {
     "name": "stdout",
     "output_type": "stream",
     "text": [
      "Training until validation scores don't improve for 15 rounds\n",
      "Early stopping, best iteration is:\n",
      "[38]\tvalid_0's ndcg@3: 0.320515\tvalid_0's ndcg@5: 0.376612\n",
      "Average NDCG Score: 0.3783486222903136\n"
     ]
    },
    {
     "name": "stderr",
     "output_type": "stream",
     "text": [
      "/Users/Priyank/opt/anaconda3/lib/python3.8/site-packages/lightgbm/engine.py:172: UserWarning: Found `num_iterations` in params. Will use it instead of argument\n",
      "  _log_warning(f\"Found `{alias}` in params. Will use it instead of argument\")\n"
     ]
    },
    {
     "name": "stdout",
     "output_type": "stream",
     "text": [
      "Training until validation scores don't improve for 15 rounds\n",
      "Early stopping, best iteration is:\n",
      "[38]\tvalid_0's ndcg@3: 0.326036\tvalid_0's ndcg@5: 0.382666\n",
      "Average NDCG Score: 0.3820449419707043\n"
     ]
    },
    {
     "name": "stderr",
     "output_type": "stream",
     "text": [
      "/Users/Priyank/opt/anaconda3/lib/python3.8/site-packages/lightgbm/engine.py:172: UserWarning: Found `num_iterations` in params. Will use it instead of argument\n",
      "  _log_warning(f\"Found `{alias}` in params. Will use it instead of argument\")\n"
     ]
    },
    {
     "name": "stdout",
     "output_type": "stream",
     "text": [
      "Training until validation scores don't improve for 15 rounds\n",
      "Early stopping, best iteration is:\n",
      "[41]\tvalid_0's ndcg@3: 0.320218\tvalid_0's ndcg@5: 0.376486\n",
      "Average NDCG Score: 0.37504295944132254\n"
     ]
    },
    {
     "name": "stderr",
     "output_type": "stream",
     "text": [
      "/Users/Priyank/opt/anaconda3/lib/python3.8/site-packages/lightgbm/engine.py:172: UserWarning: Found `num_iterations` in params. Will use it instead of argument\n",
      "  _log_warning(f\"Found `{alias}` in params. Will use it instead of argument\")\n"
     ]
    },
    {
     "name": "stdout",
     "output_type": "stream",
     "text": [
      "Training until validation scores don't improve for 15 rounds\n",
      "Early stopping, best iteration is:\n",
      "[133]\tvalid_0's ndcg@3: 0.338411\tvalid_0's ndcg@5: 0.395632\n",
      "Average NDCG Score: 0.39572388142407805\n"
     ]
    },
    {
     "name": "stderr",
     "output_type": "stream",
     "text": [
      "/Users/Priyank/opt/anaconda3/lib/python3.8/site-packages/lightgbm/engine.py:172: UserWarning: Found `num_iterations` in params. Will use it instead of argument\n",
      "  _log_warning(f\"Found `{alias}` in params. Will use it instead of argument\")\n"
     ]
    },
    {
     "name": "stdout",
     "output_type": "stream",
     "text": [
      "Training until validation scores don't improve for 15 rounds\n",
      "Did not meet early stopping. Best iteration is:\n",
      "[150]\tvalid_0's ndcg@3: 0.33914\tvalid_0's ndcg@5: 0.396335\n",
      "Average NDCG Score: 0.39612651022786444\n"
     ]
    },
    {
     "name": "stderr",
     "output_type": "stream",
     "text": [
      "/Users/Priyank/opt/anaconda3/lib/python3.8/site-packages/lightgbm/engine.py:172: UserWarning: Found `num_iterations` in params. Will use it instead of argument\n",
      "  _log_warning(f\"Found `{alias}` in params. Will use it instead of argument\")\n"
     ]
    },
    {
     "name": "stdout",
     "output_type": "stream",
     "text": [
      "Training until validation scores don't improve for 15 rounds\n",
      "Did not meet early stopping. Best iteration is:\n",
      "[150]\tvalid_0's ndcg@3: 0.343173\tvalid_0's ndcg@5: 0.399796\n",
      "Average NDCG Score: 0.3996475919168145\n"
     ]
    },
    {
     "name": "stderr",
     "output_type": "stream",
     "text": [
      "/Users/Priyank/opt/anaconda3/lib/python3.8/site-packages/lightgbm/engine.py:172: UserWarning: Found `num_iterations` in params. Will use it instead of argument\n",
      "  _log_warning(f\"Found `{alias}` in params. Will use it instead of argument\")\n"
     ]
    },
    {
     "name": "stdout",
     "output_type": "stream",
     "text": [
      "Training until validation scores don't improve for 15 rounds\n",
      "Early stopping, best iteration is:\n",
      "[115]\tvalid_0's ndcg@3: 0.322386\tvalid_0's ndcg@5: 0.378605\n",
      "Average NDCG Score: 0.3792093508213148\n"
     ]
    },
    {
     "name": "stderr",
     "output_type": "stream",
     "text": [
      "/Users/Priyank/opt/anaconda3/lib/python3.8/site-packages/lightgbm/engine.py:172: UserWarning: Found `num_iterations` in params. Will use it instead of argument\n",
      "  _log_warning(f\"Found `{alias}` in params. Will use it instead of argument\")\n"
     ]
    },
    {
     "name": "stdout",
     "output_type": "stream",
     "text": [
      "Training until validation scores don't improve for 15 rounds\n",
      "Did not meet early stopping. Best iteration is:\n",
      "[145]\tvalid_0's ndcg@3: 0.332612\tvalid_0's ndcg@5: 0.389401\n",
      "Average NDCG Score: 0.38858277768521277\n"
     ]
    },
    {
     "name": "stderr",
     "output_type": "stream",
     "text": [
      "/Users/Priyank/opt/anaconda3/lib/python3.8/site-packages/lightgbm/engine.py:172: UserWarning: Found `num_iterations` in params. Will use it instead of argument\n",
      "  _log_warning(f\"Found `{alias}` in params. Will use it instead of argument\")\n"
     ]
    },
    {
     "name": "stdout",
     "output_type": "stream",
     "text": [
      "Training until validation scores don't improve for 15 rounds\n",
      "Early stopping, best iteration is:\n",
      "[134]\tvalid_0's ndcg@3: 0.324599\tvalid_0's ndcg@5: 0.380414\n",
      "Average NDCG Score: 0.38165565107061483\n"
     ]
    },
    {
     "name": "stderr",
     "output_type": "stream",
     "text": [
      "/Users/Priyank/opt/anaconda3/lib/python3.8/site-packages/lightgbm/engine.py:172: UserWarning: Found `num_iterations` in params. Will use it instead of argument\n",
      "  _log_warning(f\"Found `{alias}` in params. Will use it instead of argument\")\n"
     ]
    },
    {
     "name": "stdout",
     "output_type": "stream",
     "text": [
      "Training until validation scores don't improve for 15 rounds\n",
      "Early stopping, best iteration is:\n",
      "[63]\tvalid_0's ndcg@3: 0.326181\tvalid_0's ndcg@5: 0.382748\n",
      "Average NDCG Score: 0.3812558577936653\n"
     ]
    },
    {
     "name": "stderr",
     "output_type": "stream",
     "text": [
      "/Users/Priyank/opt/anaconda3/lib/python3.8/site-packages/lightgbm/engine.py:172: UserWarning: Found `num_iterations` in params. Will use it instead of argument\n",
      "  _log_warning(f\"Found `{alias}` in params. Will use it instead of argument\")\n"
     ]
    },
    {
     "name": "stdout",
     "output_type": "stream",
     "text": [
      "Training until validation scores don't improve for 15 rounds\n",
      "Did not meet early stopping. Best iteration is:\n",
      "[150]\tvalid_0's ndcg@3: 0.336115\tvalid_0's ndcg@5: 0.393005\n",
      "Average NDCG Score: 0.392910901228216\n"
     ]
    },
    {
     "name": "stderr",
     "output_type": "stream",
     "text": [
      "/Users/Priyank/opt/anaconda3/lib/python3.8/site-packages/lightgbm/engine.py:172: UserWarning: Found `num_iterations` in params. Will use it instead of argument\n",
      "  _log_warning(f\"Found `{alias}` in params. Will use it instead of argument\")\n"
     ]
    },
    {
     "name": "stdout",
     "output_type": "stream",
     "text": [
      "Training until validation scores don't improve for 15 rounds\n",
      "Did not meet early stopping. Best iteration is:\n",
      "[149]\tvalid_0's ndcg@3: 0.337717\tvalid_0's ndcg@5: 0.395058\n",
      "Average NDCG Score: 0.39535753773180426\n"
     ]
    },
    {
     "name": "stderr",
     "output_type": "stream",
     "text": [
      "/Users/Priyank/opt/anaconda3/lib/python3.8/site-packages/lightgbm/engine.py:172: UserWarning: Found `num_iterations` in params. Will use it instead of argument\n",
      "  _log_warning(f\"Found `{alias}` in params. Will use it instead of argument\")\n"
     ]
    },
    {
     "name": "stdout",
     "output_type": "stream",
     "text": [
      "Training until validation scores don't improve for 15 rounds\n",
      "Did not meet early stopping. Best iteration is:\n",
      "[146]\tvalid_0's ndcg@3: 0.336453\tvalid_0's ndcg@5: 0.391561\n",
      "Average NDCG Score: 0.3920374079482647\n"
     ]
    },
    {
     "name": "stderr",
     "output_type": "stream",
     "text": [
      "/Users/Priyank/opt/anaconda3/lib/python3.8/site-packages/lightgbm/engine.py:172: UserWarning: Found `num_iterations` in params. Will use it instead of argument\n",
      "  _log_warning(f\"Found `{alias}` in params. Will use it instead of argument\")\n"
     ]
    },
    {
     "name": "stdout",
     "output_type": "stream",
     "text": [
      "Training until validation scores don't improve for 15 rounds\n",
      "Early stopping, best iteration is:\n",
      "[101]\tvalid_0's ndcg@3: 0.3382\tvalid_0's ndcg@5: 0.39469\n",
      "Average NDCG Score: 0.3919076779225956\n"
     ]
    },
    {
     "name": "stderr",
     "output_type": "stream",
     "text": [
      "/Users/Priyank/opt/anaconda3/lib/python3.8/site-packages/lightgbm/engine.py:172: UserWarning: Found `num_iterations` in params. Will use it instead of argument\n",
      "  _log_warning(f\"Found `{alias}` in params. Will use it instead of argument\")\n"
     ]
    },
    {
     "name": "stdout",
     "output_type": "stream",
     "text": [
      "Training until validation scores don't improve for 15 rounds\n",
      "Early stopping, best iteration is:\n",
      "[36]\tvalid_0's ndcg@3: 0.327521\tvalid_0's ndcg@5: 0.384439\n",
      "Average NDCG Score: 0.3833320469160828\n"
     ]
    },
    {
     "name": "stderr",
     "output_type": "stream",
     "text": [
      "/Users/Priyank/opt/anaconda3/lib/python3.8/site-packages/lightgbm/engine.py:172: UserWarning: Found `num_iterations` in params. Will use it instead of argument\n",
      "  _log_warning(f\"Found `{alias}` in params. Will use it instead of argument\")\n"
     ]
    },
    {
     "name": "stdout",
     "output_type": "stream",
     "text": [
      "Training until validation scores don't improve for 15 rounds\n",
      "Early stopping, best iteration is:\n",
      "[94]\tvalid_0's ndcg@3: 0.336525\tvalid_0's ndcg@5: 0.393325\n",
      "Average NDCG Score: 0.3925228222942812\n"
     ]
    },
    {
     "name": "stderr",
     "output_type": "stream",
     "text": [
      "/Users/Priyank/opt/anaconda3/lib/python3.8/site-packages/lightgbm/engine.py:172: UserWarning: Found `num_iterations` in params. Will use it instead of argument\n",
      "  _log_warning(f\"Found `{alias}` in params. Will use it instead of argument\")\n"
     ]
    },
    {
     "name": "stdout",
     "output_type": "stream",
     "text": [
      "Training until validation scores don't improve for 15 rounds\n",
      "Did not meet early stopping. Best iteration is:\n",
      "[149]\tvalid_0's ndcg@3: 0.335262\tvalid_0's ndcg@5: 0.392097\n",
      "Average NDCG Score: 0.3917461611663761\n"
     ]
    },
    {
     "name": "stderr",
     "output_type": "stream",
     "text": [
      "/Users/Priyank/opt/anaconda3/lib/python3.8/site-packages/lightgbm/engine.py:172: UserWarning: Found `num_iterations` in params. Will use it instead of argument\n",
      "  _log_warning(f\"Found `{alias}` in params. Will use it instead of argument\")\n"
     ]
    },
    {
     "name": "stdout",
     "output_type": "stream",
     "text": [
      "Training until validation scores don't improve for 15 rounds\n",
      "Early stopping, best iteration is:\n",
      "[119]\tvalid_0's ndcg@3: 0.325097\tvalid_0's ndcg@5: 0.381531\n",
      "Average NDCG Score: 0.3812086877032569\n"
     ]
    },
    {
     "name": "stderr",
     "output_type": "stream",
     "text": [
      "/Users/Priyank/opt/anaconda3/lib/python3.8/site-packages/lightgbm/engine.py:172: UserWarning: Found `num_iterations` in params. Will use it instead of argument\n",
      "  _log_warning(f\"Found `{alias}` in params. Will use it instead of argument\")\n"
     ]
    },
    {
     "name": "stdout",
     "output_type": "stream",
     "text": [
      "Training until validation scores don't improve for 15 rounds\n",
      "Early stopping, best iteration is:\n",
      "[84]\tvalid_0's ndcg@3: 0.335134\tvalid_0's ndcg@5: 0.392182\n",
      "Average NDCG Score: 0.3920140716298534\n"
     ]
    },
    {
     "name": "stderr",
     "output_type": "stream",
     "text": [
      "/Users/Priyank/opt/anaconda3/lib/python3.8/site-packages/lightgbm/engine.py:172: UserWarning: Found `num_iterations` in params. Will use it instead of argument\n",
      "  _log_warning(f\"Found `{alias}` in params. Will use it instead of argument\")\n"
     ]
    },
    {
     "name": "stdout",
     "output_type": "stream",
     "text": [
      "Training until validation scores don't improve for 15 rounds\n",
      "Did not meet early stopping. Best iteration is:\n",
      "[145]\tvalid_0's ndcg@3: 0.33268\tvalid_0's ndcg@5: 0.389859\n",
      "Average NDCG Score: 0.38927801084291114\n"
     ]
    },
    {
     "name": "stderr",
     "output_type": "stream",
     "text": [
      "/Users/Priyank/opt/anaconda3/lib/python3.8/site-packages/lightgbm/engine.py:172: UserWarning: Found `num_iterations` in params. Will use it instead of argument\n",
      "  _log_warning(f\"Found `{alias}` in params. Will use it instead of argument\")\n"
     ]
    },
    {
     "name": "stdout",
     "output_type": "stream",
     "text": [
      "Training until validation scores don't improve for 15 rounds\n",
      "Early stopping, best iteration is:\n",
      "[42]\tvalid_0's ndcg@3: 0.315626\tvalid_0's ndcg@5: 0.372186\n",
      "Average NDCG Score: 0.37281854911472856\n"
     ]
    },
    {
     "name": "stderr",
     "output_type": "stream",
     "text": [
      "/Users/Priyank/opt/anaconda3/lib/python3.8/site-packages/lightgbm/engine.py:172: UserWarning: Found `num_iterations` in params. Will use it instead of argument\n",
      "  _log_warning(f\"Found `{alias}` in params. Will use it instead of argument\")\n"
     ]
    },
    {
     "name": "stdout",
     "output_type": "stream",
     "text": [
      "Training until validation scores don't improve for 15 rounds\n",
      "Did not meet early stopping. Best iteration is:\n",
      "[137]\tvalid_0's ndcg@3: 0.32407\tvalid_0's ndcg@5: 0.380188\n",
      "Average NDCG Score: 0.3806906908311462\n"
     ]
    },
    {
     "name": "stderr",
     "output_type": "stream",
     "text": [
      "/Users/Priyank/opt/anaconda3/lib/python3.8/site-packages/lightgbm/engine.py:172: UserWarning: Found `num_iterations` in params. Will use it instead of argument\n",
      "  _log_warning(f\"Found `{alias}` in params. Will use it instead of argument\")\n"
     ]
    },
    {
     "name": "stdout",
     "output_type": "stream",
     "text": [
      "Training until validation scores don't improve for 15 rounds\n",
      "Did not meet early stopping. Best iteration is:\n",
      "[149]\tvalid_0's ndcg@3: 0.341394\tvalid_0's ndcg@5: 0.39767\n",
      "Average NDCG Score: 0.39711370607280355\n"
     ]
    },
    {
     "name": "stderr",
     "output_type": "stream",
     "text": [
      "/Users/Priyank/opt/anaconda3/lib/python3.8/site-packages/lightgbm/engine.py:172: UserWarning: Found `num_iterations` in params. Will use it instead of argument\n",
      "  _log_warning(f\"Found `{alias}` in params. Will use it instead of argument\")\n"
     ]
    },
    {
     "name": "stdout",
     "output_type": "stream",
     "text": [
      "Training until validation scores don't improve for 15 rounds\n",
      "Did not meet early stopping. Best iteration is:\n",
      "[148]\tvalid_0's ndcg@3: 0.332078\tvalid_0's ndcg@5: 0.388099\n",
      "Average NDCG Score: 0.38940155775878743\n"
     ]
    },
    {
     "name": "stderr",
     "output_type": "stream",
     "text": [
      "/Users/Priyank/opt/anaconda3/lib/python3.8/site-packages/lightgbm/engine.py:172: UserWarning: Found `num_iterations` in params. Will use it instead of argument\n",
      "  _log_warning(f\"Found `{alias}` in params. Will use it instead of argument\")\n"
     ]
    },
    {
     "name": "stdout",
     "output_type": "stream",
     "text": [
      "Training until validation scores don't improve for 15 rounds\n",
      "Early stopping, best iteration is:\n",
      "[31]\tvalid_0's ndcg@3: 0.323201\tvalid_0's ndcg@5: 0.380558\n",
      "Average NDCG Score: 0.38156256479039263\n"
     ]
    },
    {
     "name": "stderr",
     "output_type": "stream",
     "text": [
      "/Users/Priyank/opt/anaconda3/lib/python3.8/site-packages/lightgbm/engine.py:172: UserWarning: Found `num_iterations` in params. Will use it instead of argument\n",
      "  _log_warning(f\"Found `{alias}` in params. Will use it instead of argument\")\n"
     ]
    },
    {
     "name": "stdout",
     "output_type": "stream",
     "text": [
      "Training until validation scores don't improve for 15 rounds\n",
      "Did not meet early stopping. Best iteration is:\n",
      "[149]\tvalid_0's ndcg@3: 0.331713\tvalid_0's ndcg@5: 0.388213\n",
      "Average NDCG Score: 0.38966410312676025\n"
     ]
    },
    {
     "name": "stderr",
     "output_type": "stream",
     "text": [
      "/Users/Priyank/opt/anaconda3/lib/python3.8/site-packages/lightgbm/engine.py:172: UserWarning: Found `num_iterations` in params. Will use it instead of argument\n",
      "  _log_warning(f\"Found `{alias}` in params. Will use it instead of argument\")\n"
     ]
    },
    {
     "name": "stdout",
     "output_type": "stream",
     "text": [
      "Training until validation scores don't improve for 15 rounds\n",
      "Did not meet early stopping. Best iteration is:\n",
      "[149]\tvalid_0's ndcg@3: 0.341359\tvalid_0's ndcg@5: 0.397947\n",
      "Average NDCG Score: 0.3982236029865754\n"
     ]
    },
    {
     "name": "stderr",
     "output_type": "stream",
     "text": [
      "/Users/Priyank/opt/anaconda3/lib/python3.8/site-packages/lightgbm/engine.py:172: UserWarning: Found `num_iterations` in params. Will use it instead of argument\n",
      "  _log_warning(f\"Found `{alias}` in params. Will use it instead of argument\")\n"
     ]
    },
    {
     "name": "stdout",
     "output_type": "stream",
     "text": [
      "Training until validation scores don't improve for 15 rounds\n",
      "Did not meet early stopping. Best iteration is:\n",
      "[144]\tvalid_0's ndcg@3: 0.338154\tvalid_0's ndcg@5: 0.393883\n",
      "Average NDCG Score: 0.39448949343270545\n"
     ]
    },
    {
     "name": "stderr",
     "output_type": "stream",
     "text": [
      "/Users/Priyank/opt/anaconda3/lib/python3.8/site-packages/lightgbm/engine.py:172: UserWarning: Found `num_iterations` in params. Will use it instead of argument\n",
      "  _log_warning(f\"Found `{alias}` in params. Will use it instead of argument\")\n"
     ]
    },
    {
     "name": "stdout",
     "output_type": "stream",
     "text": [
      "Training until validation scores don't improve for 15 rounds\n",
      "Early stopping, best iteration is:\n",
      "[110]\tvalid_0's ndcg@3: 0.33713\tvalid_0's ndcg@5: 0.394021\n",
      "Average NDCG Score: 0.3945035702533743\n"
     ]
    },
    {
     "name": "stderr",
     "output_type": "stream",
     "text": [
      "/Users/Priyank/opt/anaconda3/lib/python3.8/site-packages/lightgbm/engine.py:172: UserWarning: Found `num_iterations` in params. Will use it instead of argument\n",
      "  _log_warning(f\"Found `{alias}` in params. Will use it instead of argument\")\n"
     ]
    },
    {
     "name": "stdout",
     "output_type": "stream",
     "text": [
      "Training until validation scores don't improve for 15 rounds\n",
      "Early stopping, best iteration is:\n",
      "[65]\tvalid_0's ndcg@3: 0.323079\tvalid_0's ndcg@5: 0.380975\n",
      "Average NDCG Score: 0.3798209920776448\n"
     ]
    },
    {
     "name": "stderr",
     "output_type": "stream",
     "text": [
      "/Users/Priyank/opt/anaconda3/lib/python3.8/site-packages/lightgbm/engine.py:172: UserWarning: Found `num_iterations` in params. Will use it instead of argument\n",
      "  _log_warning(f\"Found `{alias}` in params. Will use it instead of argument\")\n"
     ]
    },
    {
     "name": "stdout",
     "output_type": "stream",
     "text": [
      "Training until validation scores don't improve for 15 rounds\n",
      "Early stopping, best iteration is:\n",
      "[115]\tvalid_0's ndcg@3: 0.329074\tvalid_0's ndcg@5: 0.385637\n",
      "Average NDCG Score: 0.38602320567195425\n"
     ]
    },
    {
     "name": "stderr",
     "output_type": "stream",
     "text": [
      "/Users/Priyank/opt/anaconda3/lib/python3.8/site-packages/lightgbm/engine.py:172: UserWarning: Found `num_iterations` in params. Will use it instead of argument\n",
      "  _log_warning(f\"Found `{alias}` in params. Will use it instead of argument\")\n"
     ]
    },
    {
     "name": "stdout",
     "output_type": "stream",
     "text": [
      "Training until validation scores don't improve for 15 rounds\n",
      "Early stopping, best iteration is:\n",
      "[80]\tvalid_0's ndcg@3: 0.335358\tvalid_0's ndcg@5: 0.391706\n",
      "Average NDCG Score: 0.39058075572800105\n"
     ]
    },
    {
     "name": "stderr",
     "output_type": "stream",
     "text": [
      "/Users/Priyank/opt/anaconda3/lib/python3.8/site-packages/lightgbm/engine.py:172: UserWarning: Found `num_iterations` in params. Will use it instead of argument\n",
      "  _log_warning(f\"Found `{alias}` in params. Will use it instead of argument\")\n"
     ]
    },
    {
     "name": "stdout",
     "output_type": "stream",
     "text": [
      "Training until validation scores don't improve for 15 rounds\n",
      "Did not meet early stopping. Best iteration is:\n",
      "[150]\tvalid_0's ndcg@3: 0.335017\tvalid_0's ndcg@5: 0.39097\n",
      "Average NDCG Score: 0.3912598323537792\n"
     ]
    },
    {
     "name": "stderr",
     "output_type": "stream",
     "text": [
      "/Users/Priyank/opt/anaconda3/lib/python3.8/site-packages/lightgbm/engine.py:172: UserWarning: Found `num_iterations` in params. Will use it instead of argument\n",
      "  _log_warning(f\"Found `{alias}` in params. Will use it instead of argument\")\n"
     ]
    },
    {
     "name": "stdout",
     "output_type": "stream",
     "text": [
      "Training until validation scores don't improve for 15 rounds\n",
      "Early stopping, best iteration is:\n",
      "[125]\tvalid_0's ndcg@3: 0.339126\tvalid_0's ndcg@5: 0.39613\n",
      "Average NDCG Score: 0.3964660277340892\n"
     ]
    },
    {
     "name": "stderr",
     "output_type": "stream",
     "text": [
      "/Users/Priyank/opt/anaconda3/lib/python3.8/site-packages/lightgbm/engine.py:172: UserWarning: Found `num_iterations` in params. Will use it instead of argument\n",
      "  _log_warning(f\"Found `{alias}` in params. Will use it instead of argument\")\n"
     ]
    },
    {
     "name": "stdout",
     "output_type": "stream",
     "text": [
      "Training until validation scores don't improve for 15 rounds\n",
      "Early stopping, best iteration is:\n",
      "[81]\tvalid_0's ndcg@3: 0.331164\tvalid_0's ndcg@5: 0.388301\n",
      "Average NDCG Score: 0.3876063175892117\n"
     ]
    },
    {
     "name": "stderr",
     "output_type": "stream",
     "text": [
      "/Users/Priyank/opt/anaconda3/lib/python3.8/site-packages/lightgbm/engine.py:172: UserWarning: Found `num_iterations` in params. Will use it instead of argument\n",
      "  _log_warning(f\"Found `{alias}` in params. Will use it instead of argument\")\n"
     ]
    },
    {
     "name": "stdout",
     "output_type": "stream",
     "text": [
      "Training until validation scores don't improve for 15 rounds\n",
      "Did not meet early stopping. Best iteration is:\n",
      "[150]\tvalid_0's ndcg@3: 0.337482\tvalid_0's ndcg@5: 0.393888\n",
      "Average NDCG Score: 0.39409897576764746\n"
     ]
    },
    {
     "name": "stderr",
     "output_type": "stream",
     "text": [
      "/Users/Priyank/opt/anaconda3/lib/python3.8/site-packages/lightgbm/engine.py:172: UserWarning: Found `num_iterations` in params. Will use it instead of argument\n",
      "  _log_warning(f\"Found `{alias}` in params. Will use it instead of argument\")\n"
     ]
    },
    {
     "name": "stdout",
     "output_type": "stream",
     "text": [
      "Training until validation scores don't improve for 15 rounds\n",
      "Early stopping, best iteration is:\n",
      "[132]\tvalid_0's ndcg@3: 0.339294\tvalid_0's ndcg@5: 0.395288\n",
      "Average NDCG Score: 0.3960197926982445\n"
     ]
    },
    {
     "name": "stderr",
     "output_type": "stream",
     "text": [
      "/Users/Priyank/opt/anaconda3/lib/python3.8/site-packages/lightgbm/engine.py:172: UserWarning: Found `num_iterations` in params. Will use it instead of argument\n",
      "  _log_warning(f\"Found `{alias}` in params. Will use it instead of argument\")\n"
     ]
    },
    {
     "name": "stdout",
     "output_type": "stream",
     "text": [
      "Training until validation scores don't improve for 15 rounds\n",
      "Did not meet early stopping. Best iteration is:\n",
      "[149]\tvalid_0's ndcg@3: 0.326261\tvalid_0's ndcg@5: 0.383252\n",
      "Average NDCG Score: 0.38203560745413406\n"
     ]
    },
    {
     "name": "stderr",
     "output_type": "stream",
     "text": [
      "/Users/Priyank/opt/anaconda3/lib/python3.8/site-packages/lightgbm/engine.py:172: UserWarning: Found `num_iterations` in params. Will use it instead of argument\n",
      "  _log_warning(f\"Found `{alias}` in params. Will use it instead of argument\")\n"
     ]
    },
    {
     "name": "stdout",
     "output_type": "stream",
     "text": [
      "Training until validation scores don't improve for 15 rounds\n",
      "Early stopping, best iteration is:\n",
      "[73]\tvalid_0's ndcg@3: 0.321152\tvalid_0's ndcg@5: 0.376508\n",
      "Average NDCG Score: 0.37510135211965007\n"
     ]
    },
    {
     "name": "stderr",
     "output_type": "stream",
     "text": [
      "/Users/Priyank/opt/anaconda3/lib/python3.8/site-packages/lightgbm/engine.py:172: UserWarning: Found `num_iterations` in params. Will use it instead of argument\n",
      "  _log_warning(f\"Found `{alias}` in params. Will use it instead of argument\")\n"
     ]
    },
    {
     "name": "stdout",
     "output_type": "stream",
     "text": [
      "Training until validation scores don't improve for 15 rounds\n",
      "Early stopping, best iteration is:\n",
      "[23]\tvalid_0's ndcg@3: 0.316041\tvalid_0's ndcg@5: 0.372014\n",
      "Average NDCG Score: 0.3725254091507669\n"
     ]
    },
    {
     "name": "stderr",
     "output_type": "stream",
     "text": [
      "/Users/Priyank/opt/anaconda3/lib/python3.8/site-packages/lightgbm/engine.py:172: UserWarning: Found `num_iterations` in params. Will use it instead of argument\n",
      "  _log_warning(f\"Found `{alias}` in params. Will use it instead of argument\")\n"
     ]
    },
    {
     "name": "stdout",
     "output_type": "stream",
     "text": [
      "Training until validation scores don't improve for 15 rounds\n",
      "Early stopping, best iteration is:\n",
      "[75]\tvalid_0's ndcg@3: 0.33634\tvalid_0's ndcg@5: 0.392602\n",
      "Average NDCG Score: 0.3907592655076022\n",
      "Best NDCG Score: 0.3996475919168145\n",
      "Best Parameters: {'num_leaves': 150, 'max_depth': 20, 'min_child_samples': 30, 'learning_rate': 0.1, 'feature_fraction': 0.8, 'bagging_fraction': 0.7, 'bagging_freq': 2, 'reg_alpha': 0.1, 'reg_lambda': 10, 'objective': 'lambdarank', 'metric': 'ndcg', 'ndcg_eval_at': [3, 5], 'verbose': -1, 'boosting_type': 'gbdt', 'num_iterations': 150, 'feature_pre_filter': False}\n"
     ]
    }
   ],
   "source": [
    "import lightgbm as lgb\n",
    "import numpy as np\n",
    "from sklearn.model_selection import train_test_split\n",
    "from sklearn.metrics import ndcg_score\n",
    "import random\n",
    "\n",
    "unique_ids = df['srch_id'].unique()\n",
    "train_ids, test_ids = train_test_split(unique_ids, test_size=0.2, random_state=42, shuffle=True)  # 首先分割出20%为最终测试集\n",
    "train_val_ids, val_ids = train_test_split(train_ids, test_size=0.25, random_state=42, shuffle=True)  # 将剩余80%分为训练集(60%)和验证集(20%)\n",
    "\n",
    "train_df = df[df['srch_id'].isin(train_val_ids)]\n",
    "val_df = df[df['srch_id'].isin(val_ids)]\n",
    "test_df = df[df['srch_id'].isin(test_ids)]\n",
    "\n",
    "train_data = lgb.Dataset(train_df[features], label=train_df['score'], group=train_df['srch_id'].value_counts().sort_index())\n",
    "val_data = lgb.Dataset(val_df[features], label=val_df['score'], group=val_df['srch_id'].value_counts().sort_index())\n",
    "test_data = lgb.Dataset(test_df[features], label=test_df['score'], group=test_df['srch_id'].value_counts().sort_index())\n",
    "\n",
    "# 参数空间\n",
    "# param_grid = {\n",
    "#     'num_leaves': [10, 31, 50, 70],\n",
    "#     'max_depth': [3, 5, 6, 8],\n",
    "#     'min_child_samples': [10, 20, 30, 40],\n",
    "#     'learning_rate': [0.01, 0.05, 0.1, 0.2],\n",
    "#     'feature_fraction': [0.6, 0.7, 0.8, 0.9],\n",
    "#     'bagging_fraction': [0.6, 0.7, 0.8, 0.9],\n",
    "#     'bagging_freq': [1, 2, 4],\n",
    "#     'reg_alpha': [0, 0.001, 0.01, 0.1],\n",
    "#     'reg_lambda': [0, 1, 5, 10]\n",
    "# }\n",
    "\n",
    "# # 随机搜索\n",
    "# best_ndcg = 0\n",
    "# best_params = None\n",
    "# n_iterations = 50  # 定义迭代次数\n",
    "\n",
    "param_grid = {\n",
    "    'num_leaves': [70, 90, 125, 150, 200],\n",
    "    'max_depth': [6, 8, 12, 20, 40],\n",
    "    'min_child_samples': [10, 20, 30, 40, 60],\n",
    "    'learning_rate': [0.01, 0.05, 0.1, 0.2, 0.5, 0.025],\n",
    "    'feature_fraction': [0.6, 0.7, 0.8, 0.9],\n",
    "    'bagging_fraction': [0.6, 0.7, 0.8, 0.9],\n",
    "    'bagging_freq': [1, 2, 4],\n",
    "    'reg_alpha': [0, 0.001, 0.01, 0.1],\n",
    "    'reg_lambda': [0, 1, 5, 10]\n",
    "}\n",
    "\n",
    "# 随机搜索最佳参数\n",
    "best_ndcg = 0\n",
    "best_params = None\n",
    "n_iterations = 50\n",
    "\n",
    "for _ in range(n_iterations):\n",
    "    random_params = {k: random.choice(v) for k, v in param_grid.items()}\n",
    "    random_params.update({'objective': 'lambdarank', 'metric': 'ndcg', 'ndcg_eval_at': [3, 5], 'verbose': -1, \n",
    "                          'boosting_type': 'gbdt', 'num_iterations': 150, 'feature_pre_filter': False})\n",
    "\n",
    "    bst = lgb.train(\n",
    "        random_params,\n",
    "        train_data,\n",
    "        valid_sets=[val_data],\n",
    "        callbacks=[lgb.early_stopping(15)]\n",
    "    )\n",
    "\n",
    "    test_pred = bst.predict(test_df[features], num_iteration=bst.best_iteration)\n",
    "    test_df['predictions'] = test_pred\n",
    "    test_df.sort_values(['srch_id', 'predictions'], ascending=[True, False], inplace=True)\n",
    "    grouped = test_df.groupby('srch_id')\n",
    "    ndcg_scores = []\n",
    "\n",
    "    for name, group in grouped:\n",
    "        true_relevance = group['score'].values\n",
    "        scores_pred = group['predictions'].values\n",
    "        if len(np.unique(true_relevance)) > 1:\n",
    "            ndcg_scores.append(ndcg_score([true_relevance], [scores_pred], k=5))\n",
    "\n",
    "    average_ndcg = np.mean(ndcg_scores)\n",
    "    print(f\"Average NDCG Score: {average_ndcg}\")\n",
    "    if average_ndcg > best_ndcg:\n",
    "        best_ndcg = average_ndcg\n",
    "        best_params = random_params\n",
    "\n",
    "print(f\"Best NDCG Score: {best_ndcg}\")\n",
    "print(\"Best Parameters:\", best_params)"
   ]
  },
  {
   "cell_type": "markdown",
   "metadata": {},
   "source": [
    "### Validation Result Documentation"
   ]
  },
  {
   "cell_type": "code",
   "execution_count": 36,
   "metadata": {},
   "outputs": [
    {
     "name": "stderr",
     "output_type": "stream",
     "text": [
      "/Users/Priyank/opt/anaconda3/lib/python3.8/site-packages/lightgbm/engine.py:172: UserWarning: Found `num_iterations` in params. Will use it instead of argument\n",
      "  _log_warning(f\"Found `{alias}` in params. Will use it instead of argument\")\n"
     ]
    },
    {
     "name": "stdout",
     "output_type": "stream",
     "text": [
      "Average NDCG Score: 0.3996475919168145\n"
     ]
    }
   ],
   "source": [
    "unique_ids = df['srch_id'].unique()\n",
    "train_ids, test_ids = train_test_split(unique_ids, test_size=0.2, random_state=42, shuffle=True)\n",
    "train_df = df[df['srch_id'].isin(train_val_ids)]\n",
    "test_df = df[df['srch_id'].isin(test_ids)]\n",
    "\n",
    "\n",
    "# 准备 LightGBM 数据结构\n",
    "train_data = lgb.Dataset(train_df[features], label=train_df['score'], group=train_df['srch_id'].value_counts().sort_index())\n",
    "test_data = lgb.Dataset(test_df[features], label=test_df['score'], group=test_df['srch_id'].value_counts().sort_index())\n",
    "\n",
    "# 设置模型参数\n",
    "params = {'num_leaves': 150, 'max_depth': 20, 'min_child_samples': 30, 'learning_rate': 0.1, 'feature_fraction': 0.8, 'bagging_fraction': 0.7, 'bagging_freq': 2, 'reg_alpha': 0.1, 'reg_lambda': 10, 'objective': 'lambdarank', 'metric': 'ndcg', 'ndcg_eval_at': [3, 5], 'verbose': -1, 'boosting_type': 'gbdt', 'num_iterations': 150, 'feature_pre_filter': False}\n",
    "num_round = 250\n",
    "bst = lgb.train(params, train_data, num_round, valid_sets=[test_data])\n",
    "\n",
    "# 预测测试集\n",
    "test_pred = bst.predict(test_df[features])\n",
    "\n",
    "# 评估模型，计算 NDCG 分数\n",
    "test_df['predictions'] = test_pred\n",
    "\n",
    "# 首先确保数据按照 srch_id 和 predictions 降序排序\n",
    "test_df.sort_values(['srch_id', 'predictions'], ascending=[True, False], inplace=True)\n",
    "\n",
    "# 分组并计算每个搜索会话的 NDCG\n",
    "grouped = test_df.groupby('srch_id')\n",
    "ndcg_scores = []\n",
    "\n",
    "for name, group in grouped:\n",
    "    group = group.sort_values('predictions', ascending=False)\n",
    "    true_relevance = group['score'].values\n",
    "    scores_pred = group['predictions'].values\n",
    "    # 计算当前搜索会话的 NDCG 分数，并追加到列表中\n",
    "    if len(np.unique(true_relevance)) > 1:  # 只计算有正样本的会话\n",
    "        ndcg_scores.append(ndcg_score([true_relevance], [scores_pred], k=5))\n",
    "\n",
    "average_ndcg = np.mean(ndcg_scores)\n",
    "print(f\"Average NDCG Score: {average_ndcg}\")\n"
   ]
  },
  {
   "cell_type": "markdown",
   "metadata": {},
   "source": [
    "# Feature importance"
   ]
  },
  {
   "cell_type": "code",
   "execution_count": 37,
   "metadata": {},
   "outputs": [],
   "source": [
    "# Feature importance based on split count\n",
    "importances_split = bst.feature_importance(importance_type='split')\n",
    "# Feature importance based on gain\n",
    "importances_gain = bst.feature_importance(importance_type='gain')\n",
    "\n",
    "# Get feature names\n",
    "feature_names = train_df[features].columns.tolist()\n",
    "\n",
    "# Create a DataFrame to display importance\n",
    "importance_df_split = pd.DataFrame({'Feature': feature_names, 'Importance (Split)': importances_split})\n",
    "importance_df_gain = pd.DataFrame({'Feature': feature_names, 'Importance (Gain)': importances_gain})\n",
    "\n",
    "# Sort the data for better visualization\n",
    "importance_df_split.sort_values(by='Importance (Split)', ascending=False, inplace=True)\n",
    "importance_df_gain.sort_values(by='Importance (Gain)', ascending=False, inplace=True)\n"
   ]
  },
  {
   "cell_type": "code",
   "execution_count": 38,
   "metadata": {},
   "outputs": [
    {
     "data": {
      "image/png": "[encoded data removed]",
      "text/plain": [
       "<Figure size 1800x1440 with 1 Axes>"
      ]
     },
     "metadata": {
      "needs_background": "light"
     },
     "output_type": "display_data"
    },
    {
     "data": {
      "image/png": "[encoded data removed]",
      "text/plain": [
       "<Figure size 1800x1440 with 1 Axes>"
      ]
     },
     "metadata": {
      "needs_background": "light"
     },
     "output_type": "display_data"
    }
   ],
   "source": [
    "# Plotting feature importance - Split\n",
    "plt.figure(figsize=(25, 20))\n",
    "plt.title('Feature Importance based on split count')\n",
    "plt.barh(importance_df_split['Feature'], importance_df_split['Importance (Split)'])\n",
    "plt.xlabel('Importance')\n",
    "plt.ylabel('Features')\n",
    "plt.show()\n",
    "\n",
    "# Plotting feature importance - Gain\n",
    "plt.figure(figsize=(25, 20))\n",
    "plt.title('Feature Importance based on gain')\n",
    "plt.barh(importance_df_gain['Feature'], importance_df_gain['Importance (Gain)'])\n",
    "plt.xlabel('Importance')\n",
    "plt.ylabel('Features')\n",
    "plt.show()\n"
   ]
  },
  {
   "cell_type": "code",
   "execution_count": null,
   "metadata": {},
   "outputs": [],
   "source": []
  },
  {
   "cell_type": "markdown",
   "metadata": {},
   "source": [
    "### Result output"
   ]
  },
  {
   "cell_type": "code",
   "execution_count": 39,
   "metadata": {},
   "outputs": [],
   "source": [
    "# 使用迭代器逐块读取数据\n",
    "chunk_size = 10000\n",
    "reader = pd.read_csv('/Users/Priyank/Desktop/dmt2/feature_engineered_test_set_VU_DM.csv', chunksize=chunk_size)\n",
    "\n",
    "predictions = []  # 创建一个空列表以存储每个块的预测结果\n",
    "for chunk in reader:\n",
    "    # 可以在这里添加数据预处理步骤，比如填充缺失值等\n",
    "    chunk_pred = bst.predict(chunk[features])  # 应用模型进行预测\n",
    "    chunk['predictions'] = chunk_pred  # 将预测结果添加到 DataFrame\n",
    "    predictions.append(chunk[['srch_id', 'prop_id', 'predictions']])  # 仅保留需要的列\n",
    "\n",
    "# 合并所有批次的预测结果\n",
    "final_predictions = pd.concat(predictions)"
   ]
  },
  {
   "cell_type": "code",
   "execution_count": 40,
   "metadata": {},
   "outputs": [],
   "source": [
    "# 确保按照预测分数排序，如果 Kaggle 要求\n",
    "final_predictions.sort_values(['srch_id', 'predictions'], ascending=[True, False], inplace=True)\n",
    "\n",
    "# 选择需要的列\n",
    "final_predictions = final_predictions[['srch_id', 'prop_id']]\n",
    "\n",
    "# 保存为 CSV 文件，确保不包含索引，包含列标题\n",
    "final_predictions.to_csv('updated_params.csv', index=False, header=True)"
   ]
  },
  {
   "cell_type": "code",
   "execution_count": 15,
   "metadata": {},
   "outputs": [
    {
     "name": "stdout",
     "output_type": "stream",
     "text": [
      "         srch_id  prop_id\n",
      "23             1    99484\n",
      "9              1    54937\n",
      "12             1    61934\n",
      "5              1    28181\n",
      "6              1    34263\n",
      "...          ...      ...\n",
      "4959177   332787    29018\n",
      "4959182   332787    99509\n",
      "4959181   332787    94437\n",
      "4959178   332787    32019\n",
      "4959180   332787    35240\n",
      "\n",
      "[4959183 rows x 2 columns]\n"
     ]
    }
   ],
   "source": [
    "print(final_predictions)"
   ]
  },
  {
   "cell_type": "markdown",
   "metadata": {},
   "source": [
    "# Feature importance"
   ]
  },
  {
   "cell_type": "code",
   "execution_count": 41,
   "metadata": {
    "scrolled": true
   },
   "outputs": [],
   "source": [
    "importance = bst.feature_importance(importance_type='gain')\n",
    "features = [feat for feat, imp in zip(features, importance) if imp > 75] "
   ]
  },
  {
   "cell_type": "code",
   "execution_count": 42,
   "metadata": {},
   "outputs": [
    {
     "name": "stderr",
     "output_type": "stream",
     "text": [
      "/Users/Priyank/opt/anaconda3/lib/python3.8/site-packages/lightgbm/engine.py:172: UserWarning: Found `num_iterations` in params. Will use it instead of argument\n",
      "  _log_warning(f\"Found `{alias}` in params. Will use it instead of argument\")\n"
     ]
    },
    {
     "name": "stdout",
     "output_type": "stream",
     "text": [
      "Average NDCG Score: 0.397240250118853\n"
     ]
    }
   ],
   "source": [
    "# Prepare data structures with filtered features\n",
    "train_data = lgb.Dataset(train_df[features], label=train_df['score'], group=train_df['srch_id'].value_counts().sort_index())\n",
    "test_data = lgb.Dataset(test_df[features], label=test_df['score'], group=test_df['srch_id'].value_counts().sort_index())\n",
    "\n",
    "# Model parameters\n",
    "params = {\n",
    "    'num_leaves': 90,\n",
    "    'max_depth': 40,\n",
    "    'min_child_samples': 40,\n",
    "    'learning_rate': 0.1,\n",
    "    'feature_fraction': 0.8,\n",
    "    'bagging_fraction': 0.8,\n",
    "    'bagging_freq': 2,\n",
    "    'reg_alpha': 0.1,\n",
    "    'reg_lambda': 1,\n",
    "    'objective': 'lambdarank',\n",
    "    'metric': 'ndcg',\n",
    "    'ndcg_eval_at': [3, 5],\n",
    "    'verbose': -1,\n",
    "    'boosting_type': 'gbdt',\n",
    "    'num_iterations': 150,\n",
    "    'feature_pre_filter': False\n",
    "}\n",
    "\n",
    "# Retrain the model with selected features\n",
    "bst = lgb.train(params, train_data, valid_sets=[test_data])\n",
    "\n",
    "# Predict and evaluate\n",
    "test_pred = bst.predict(test_df[features])\n",
    "test_df['predictions'] = test_pred\n",
    "test_df.sort_values(['srch_id', 'predictions'], ascending=[True, False], inplace=True)\n",
    "\n",
    "# Compute NDCG scores\n",
    "ndcg_scores = [ndcg_score([g['score'].values], [g['predictions'].values], k=5)\n",
    "               for name, g in test_df.groupby('srch_id') if len(np.unique(g['score'].values)) > 1]\n",
    "average_ndcg = np.mean(ndcg_scores)\n",
    "print(f\"Average NDCG Score: {average_ndcg}\")\n"
   ]
  },
  {
   "cell_type": "code",
   "execution_count": null,
   "metadata": {},
   "outputs": [],
   "source": [
    "# 使用迭代器逐块读取数据\n",
    "chunk_size = 10000\n",
    "reader = pd.read_csv('/Users/Priyank/Desktop/dmt2/feature_engineered_test_set_VU_DM.csv', chunksize=chunk_size)\n",
    "\n",
    "predictions = []  # 创建一个空列表以存储每个块的预测结果\n",
    "for chunk in reader:\n",
    "    # 可以在这里添加数据预处理步骤，比如填充缺失值等\n",
    "    chunk_pred = bst.predict(chunk[features])  # 应用模型进行预测\n",
    "    chunk['predictions'] = chunk_pred  # 将预测结果添加到 DataFrame\n",
    "    predictions.append(chunk[['srch_id', 'prop_id', 'predictions']])  # 仅保留需要的列\n",
    "\n",
    "# 合并所有批次的预测结果\n",
    "final_predictions = pd.concat(predictions)\n",
    "\n",
    "# 确保按照预测分数排序，如果 Kaggle 要求\n",
    "final_predictions.sort_values(['srch_id', 'predictions'], ascending=[True, False], inplace=True)\n",
    "\n",
    "# 选择需要的列\n",
    "final_predictions = final_predictions[['srch_id', 'prop_id']]\n",
    "\n",
    "# 保存为 CSV 文件，确保不包含索引，包含列标题\n",
    "final_predictions.to_csv('updated_params.csv', index=False, header=True)"
   ]
  }
 ],
 "metadata": {
  "kernelspec": {
   "display_name": "Python 3",
   "language": "python",
   "name": "python3"
  },
  "language_info": {
   "codemirror_mode": {
    "name": "ipython",
    "version": 3
   },
   "file_extension": ".py",
   "mimetype": "text/x-python",
   "name": "python",
   "nbconvert_exporter": "python",
   "pygments_lexer": "ipython3",
   "version": "3.8.10"
  },
  "toc": {
   "base_numbering": 1,
   "nav_menu": {},
   "number_sections": true,
   "sideBar": true,
   "skip_h1_title": false,
   "title_cell": "Table of Contents",
   "title_sidebar": "Contents",
   "toc_cell": false,
   "toc_position": {},
   "toc_section_display": true,
   "toc_window_display": false
  }
 },
 "nbformat": 4,
 "nbformat_minor": 2
}
